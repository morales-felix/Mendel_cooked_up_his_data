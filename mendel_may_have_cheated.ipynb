{
 "cells": [
  {
   "cell_type": "code",
   "execution_count": 2,
   "metadata": {
    "ExecuteTime": {
     "end_time": "2021-02-23T18:17:58.223957Z",
     "start_time": "2021-02-23T18:17:48.103111Z"
    }
   },
   "outputs": [],
   "source": [
    "import numpy as np\n",
    "import matplotlib.pyplot as plt\n",
    "import pandas as pd\n",
    "import seaborn as sns\n",
    "from scipy import stats\n",
    "import scipy.io\n",
    "import math\n",
    "import random"
   ]
  },
  {
   "cell_type": "markdown",
   "metadata": {},
   "source": [
    "## Problem 1: Mendel’s Pea Plants"
   ]
  },
  {
   "cell_type": "markdown",
   "metadata": {},
   "source": [
    "### 1.a)\tSimulate any genetic mechanism to generate an expected result."
   ]
  },
  {
   "cell_type": "markdown",
   "metadata": {},
   "source": [
    "#### 1.a.i. Simulate a virtual pea plant that has one heterozygous trait crossed with another virtual pea plant with the same heterozygous genotype. Assuming the likelihoods of the offspring getting either allele are equal, confirm that on average we expect to observe a 1:2:1 ratio between the homozygous dominant, heterozygous, and homozygous recessive genotypes in the offspring."
   ]
  },
  {
   "cell_type": "code",
   "execution_count": 2,
   "metadata": {
    "ExecuteTime": {
     "end_time": "2021-02-23T18:17:58.360104Z",
     "start_time": "2021-02-23T18:17:58.232068Z"
    }
   },
   "outputs": [],
   "source": [
    "Dom = 'A'\n",
    "Rec = 'a'\n",
    "Plant1 = [Dom,Rec]\n",
    "Plant2 = [Dom,Rec]\n",
    "\n",
    "Crosses = 10000\n",
    "homo_dom = 0\n",
    "hetero = 0\n",
    "homo_rec = 0\n",
    "for i in range(Crosses):\n",
    "    cross = [random.choice(Plant1),random.choice(Plant2)]\n",
    "    if cross.count(Dom) == 2:\n",
    "        homo_dom += 1\n",
    "    elif cross.count(Rec) == 2:\n",
    "        homo_rec += 1\n",
    "    else:\n",
    "        hetero += 1"
   ]
  },
  {
   "cell_type": "code",
   "execution_count": 3,
   "metadata": {
    "ExecuteTime": {
     "end_time": "2021-02-23T18:17:58.403835Z",
     "start_time": "2021-02-23T18:17:58.374423Z"
    }
   },
   "outputs": [
    {
     "name": "stdout",
     "output_type": "stream",
     "text": [
      "Offspring totals: AA: 2493, Aa: 5088, aa: 2419\n",
      "AA:Aa:aa -- 1.00:2.04:0.97\n"
     ]
    }
   ],
   "source": [
    "print(f\"Offspring totals: AA: {homo_dom}, Aa: {hetero}, aa: {homo_rec}\")\n",
    "print(f\"AA:Aa:aa -- {homo_dom/homo_dom:.2f}:{hetero/homo_dom:.2f}:{homo_rec/homo_dom:.2f}\")"
   ]
  },
  {
   "cell_type": "markdown",
   "metadata": {},
   "source": [
    "#### 1.a.ii. Simulate the crossing between two virtual pea plants that have two traits and that are heterozygous for both. Assuming the alleles of the different traits are segregated independently (the Law of Independent Assortment holds), confirm that the offspring will have a phenotypic ratio of 9 Dom-Dom: 3 Dom-Rec: 3 Rec-Dom: 1 Rec-Rec in the two traits."
   ]
  },
  {
   "cell_type": "code",
   "execution_count": 4,
   "metadata": {
    "ExecuteTime": {
     "end_time": "2021-02-23T18:17:58.484919Z",
     "start_time": "2021-02-23T18:17:58.413849Z"
    }
   },
   "outputs": [],
   "source": [
    "pea1 = ['AB','Ab','aB','ab']\n",
    "pea2 = ['AB','Ab','aB','ab']\n",
    "\n",
    "dom_dom = ['ABAB','ABAb','ABaB','ABab','AbAB','AbaB','aBAB','aBAb','abAB']\n",
    "dom_rec = ['AbAb','Abab','abAb']\n",
    "rec_dom = ['aBaB','aBab','abaB']\n",
    "\n",
    "DD = 0\n",
    "Dr = 0\n",
    "rD = 0\n",
    "rr = 0\n",
    "\n",
    "for i in range(Crosses):\n",
    "    cross = ''.join([random.choice(pea1),random.choice(pea2)])\n",
    "    if cross in dom_dom:\n",
    "        DD += 1\n",
    "    elif cross in dom_rec:\n",
    "        Dr += 1\n",
    "    elif cross in rec_dom:\n",
    "        rD += 1\n",
    "    else:\n",
    "        rr += 1"
   ]
  },
  {
   "cell_type": "code",
   "execution_count": 5,
   "metadata": {
    "ExecuteTime": {
     "end_time": "2021-02-23T18:17:58.498982Z",
     "start_time": "2021-02-23T18:17:58.490458Z"
    }
   },
   "outputs": [
    {
     "name": "stdout",
     "output_type": "stream",
     "text": [
      "Offspring totals: Dom-Dom: 5607, Dom-Rec: 1901, Rec-Dom: 1839, Rec-Rec: 653\n",
      "Dom-Dom:Dom-Rec:Rec-Dom:Rec-Rec -- 8.59:2.91:2.82:1.00\n"
     ]
    }
   ],
   "source": [
    "print(f\"Offspring totals: Dom-Dom: {DD}, Dom-Rec: {Dr}, Rec-Dom: {rD}, Rec-Rec: {rr}\")\n",
    "print(f\"Dom-Dom:Dom-Rec:Rec-Dom:Rec-Rec -- {DD/rr:.2f}:{Dr/rr:.2f}:{rD/rr:.2f}:{rr/rr:.2f}\")"
   ]
  },
  {
   "cell_type": "markdown",
   "metadata": {},
   "source": [
    "#### 1.a.iii. Write a function that simulates the crossing between two virtual pea plants with one trait. The input pea plants should be able to have arbitrary genotype, and should produce any desired number of offspring."
   ]
  },
  {
   "cell_type": "code",
   "execution_count": 6,
   "metadata": {
    "ExecuteTime": {
     "end_time": "2021-02-23T18:17:58.521186Z",
     "start_time": "2021-02-23T18:17:58.506088Z"
    }
   },
   "outputs": [],
   "source": [
    "def cross_one_trait(gen1,gen2,crosses):\n",
    "    \"\"\"\n",
    "    Cross two plants however many times! Provide gen1 and gen2, genotype of plant 1 and 2,\n",
    "    respectively, as lists of str.\n",
    "    offspring - int, number of offspring to generate.\n",
    "    \"\"\"\n",
    "    offspring = []\n",
    "\n",
    "    for i in range(crosses):\n",
    "        offspring.append([random.choice(gen1),random.choice(gen2)])\n",
    "        \n",
    "    return offspring"
   ]
  },
  {
   "cell_type": "code",
   "execution_count": 7,
   "metadata": {
    "ExecuteTime": {
     "end_time": "2021-02-23T18:17:58.591519Z",
     "start_time": "2021-02-23T18:17:58.526179Z"
    }
   },
   "outputs": [
    {
     "data": {
      "text/plain": [
       "10000"
      ]
     },
     "execution_count": 7,
     "metadata": {},
     "output_type": "execute_result"
    }
   ],
   "source": [
    "out = cross_one_trait(Plant1,Plant2,Crosses)\n",
    "len(out)"
   ]
  },
  {
   "cell_type": "markdown",
   "metadata": {},
   "source": [
    "### 1.b) \tFor each of the 84 experiments calculate Edward’s $\\chi$-statistic\n",
    "### $\\chi = \\frac{Obs - Np}{\\sqrt{Npq}}$  \n",
    "### where p and q are the expected likelihood of allele 1 and allele 2, respectively.  Also, calculate the $\\chi^2$-statistic using the formula\n",
    "### $\\chi^2 = \\sum\\limits_{i}\\frac{(O_{i}-E_{i})^2}{E_{i}}$\n",
    "### compare to the square of the $\\chi$-statistic and explain why they are identical."
   ]
  },
  {
   "cell_type": "code",
   "execution_count": 8,
   "metadata": {
    "ExecuteTime": {
     "end_time": "2021-02-23T18:17:58.789460Z",
     "start_time": "2021-02-23T18:17:58.604092Z"
    }
   },
   "outputs": [
    {
     "name": "stderr",
     "output_type": "stream",
     "text": [
      "<ipython-input-8-82dec9ea13ab>:1: ParserWarning: Falling back to the 'python' engine because the 'c' engine does not support regex separators (separators > 1 char and different from '\\s+' are interpreted as regex); you can avoid this warning by specifying engine='python'.\n",
      "  Edwards = pd.read_csv('EdwardsTable2.csv',delimiter=', ')\n"
     ]
    },
    {
     "data": {
      "text/html": [
       "<div>\n",
       "<style scoped>\n",
       "    .dataframe tbody tr th:only-of-type {\n",
       "        vertical-align: middle;\n",
       "    }\n",
       "\n",
       "    .dataframe tbody tr th {\n",
       "        vertical-align: top;\n",
       "    }\n",
       "\n",
       "    .dataframe thead th {\n",
       "        text-align: right;\n",
       "    }\n",
       "</style>\n",
       "<table border=\"1\" class=\"dataframe\">\n",
       "  <thead>\n",
       "    <tr style=\"text-align: right;\">\n",
       "      <th></th>\n",
       "      <th>Experiment</th>\n",
       "      <th>Character</th>\n",
       "      <th>Exp1</th>\n",
       "      <th>Exp2</th>\n",
       "      <th>Obs1</th>\n",
       "      <th>Obs2</th>\n",
       "      <th>Total</th>\n",
       "      <th>prob1</th>\n",
       "      <th>prob2</th>\n",
       "      <th>$\\chi$</th>\n",
       "      <th>Squared $\\chi$</th>\n",
       "      <th>$\\chi^2$</th>\n",
       "    </tr>\n",
       "  </thead>\n",
       "  <tbody>\n",
       "    <tr>\n",
       "      <th>0</th>\n",
       "      <td>1</td>\n",
       "      <td>A</td>\n",
       "      <td>3.0</td>\n",
       "      <td>1.0</td>\n",
       "      <td>5138</td>\n",
       "      <td>1749</td>\n",
       "      <td>6887</td>\n",
       "      <td>0.75</td>\n",
       "      <td>0.25</td>\n",
       "      <td>-0.758317</td>\n",
       "      <td>0.575045</td>\n",
       "      <td>0.575045</td>\n",
       "    </tr>\n",
       "    <tr>\n",
       "      <th>1</th>\n",
       "      <td>2</td>\n",
       "      <td>B</td>\n",
       "      <td>3.0</td>\n",
       "      <td>1.0</td>\n",
       "      <td>5667</td>\n",
       "      <td>1878</td>\n",
       "      <td>7545</td>\n",
       "      <td>0.75</td>\n",
       "      <td>0.25</td>\n",
       "      <td>0.219343</td>\n",
       "      <td>0.048111</td>\n",
       "      <td>0.048111</td>\n",
       "    </tr>\n",
       "    <tr>\n",
       "      <th>2</th>\n",
       "      <td>3</td>\n",
       "      <td>A</td>\n",
       "      <td>3.0</td>\n",
       "      <td>1.0</td>\n",
       "      <td>45</td>\n",
       "      <td>12</td>\n",
       "      <td>57</td>\n",
       "      <td>0.75</td>\n",
       "      <td>0.25</td>\n",
       "      <td>0.688247</td>\n",
       "      <td>0.473684</td>\n",
       "      <td>0.473684</td>\n",
       "    </tr>\n",
       "    <tr>\n",
       "      <th>3</th>\n",
       "      <td>4</td>\n",
       "      <td>A</td>\n",
       "      <td>3.0</td>\n",
       "      <td>1.0</td>\n",
       "      <td>27</td>\n",
       "      <td>8</td>\n",
       "      <td>35</td>\n",
       "      <td>0.75</td>\n",
       "      <td>0.25</td>\n",
       "      <td>0.292770</td>\n",
       "      <td>0.085714</td>\n",
       "      <td>0.085714</td>\n",
       "    </tr>\n",
       "    <tr>\n",
       "      <th>4</th>\n",
       "      <td>5</td>\n",
       "      <td>A</td>\n",
       "      <td>3.0</td>\n",
       "      <td>1.0</td>\n",
       "      <td>24</td>\n",
       "      <td>7</td>\n",
       "      <td>31</td>\n",
       "      <td>0.75</td>\n",
       "      <td>0.25</td>\n",
       "      <td>0.311086</td>\n",
       "      <td>0.096774</td>\n",
       "      <td>0.096774</td>\n",
       "    </tr>\n",
       "    <tr>\n",
       "      <th>...</th>\n",
       "      <td>...</td>\n",
       "      <td>...</td>\n",
       "      <td>...</td>\n",
       "      <td>...</td>\n",
       "      <td>...</td>\n",
       "      <td>...</td>\n",
       "      <td>...</td>\n",
       "      <td>...</td>\n",
       "      <td>...</td>\n",
       "      <td>...</td>\n",
       "      <td>...</td>\n",
       "      <td>...</td>\n",
       "    </tr>\n",
       "    <tr>\n",
       "      <th>79</th>\n",
       "      <td>80</td>\n",
       "      <td>B among Aa</td>\n",
       "      <td>1.0</td>\n",
       "      <td>1.0</td>\n",
       "      <td>24</td>\n",
       "      <td>25</td>\n",
       "      <td>49</td>\n",
       "      <td>0.50</td>\n",
       "      <td>0.50</td>\n",
       "      <td>-0.142857</td>\n",
       "      <td>0.020408</td>\n",
       "      <td>0.020408</td>\n",
       "    </tr>\n",
       "    <tr>\n",
       "      <th>80</th>\n",
       "      <td>81</td>\n",
       "      <td>B among aa</td>\n",
       "      <td>1.0</td>\n",
       "      <td>1.0</td>\n",
       "      <td>22</td>\n",
       "      <td>27</td>\n",
       "      <td>49</td>\n",
       "      <td>0.50</td>\n",
       "      <td>0.50</td>\n",
       "      <td>-0.714286</td>\n",
       "      <td>0.510204</td>\n",
       "      <td>0.510204</td>\n",
       "    </tr>\n",
       "    <tr>\n",
       "      <th>81</th>\n",
       "      <td>82</td>\n",
       "      <td>G</td>\n",
       "      <td>1.0</td>\n",
       "      <td>1.0</td>\n",
       "      <td>87</td>\n",
       "      <td>79</td>\n",
       "      <td>166</td>\n",
       "      <td>0.50</td>\n",
       "      <td>0.50</td>\n",
       "      <td>0.620920</td>\n",
       "      <td>0.385542</td>\n",
       "      <td>0.385542</td>\n",
       "    </tr>\n",
       "    <tr>\n",
       "      <th>82</th>\n",
       "      <td>83</td>\n",
       "      <td>C among Gg</td>\n",
       "      <td>1.0</td>\n",
       "      <td>1.0</td>\n",
       "      <td>47</td>\n",
       "      <td>40</td>\n",
       "      <td>87</td>\n",
       "      <td>0.50</td>\n",
       "      <td>0.50</td>\n",
       "      <td>0.750479</td>\n",
       "      <td>0.563218</td>\n",
       "      <td>0.563218</td>\n",
       "    </tr>\n",
       "    <tr>\n",
       "      <th>83</th>\n",
       "      <td>84</td>\n",
       "      <td>C among gg</td>\n",
       "      <td>1.0</td>\n",
       "      <td>1.0</td>\n",
       "      <td>38</td>\n",
       "      <td>41</td>\n",
       "      <td>79</td>\n",
       "      <td>0.50</td>\n",
       "      <td>0.50</td>\n",
       "      <td>-0.337526</td>\n",
       "      <td>0.113924</td>\n",
       "      <td>0.113924</td>\n",
       "    </tr>\n",
       "  </tbody>\n",
       "</table>\n",
       "<p>84 rows × 12 columns</p>\n",
       "</div>"
      ],
      "text/plain": [
       "    Experiment   Character  Exp1  Exp2  Obs1  Obs2  Total  prob1  prob2  \\\n",
       "0            1           A   3.0   1.0  5138  1749   6887   0.75   0.25   \n",
       "1            2           B   3.0   1.0  5667  1878   7545   0.75   0.25   \n",
       "2            3           A   3.0   1.0    45    12     57   0.75   0.25   \n",
       "3            4           A   3.0   1.0    27     8     35   0.75   0.25   \n",
       "4            5           A   3.0   1.0    24     7     31   0.75   0.25   \n",
       "..         ...         ...   ...   ...   ...   ...    ...    ...    ...   \n",
       "79          80  B among Aa   1.0   1.0    24    25     49   0.50   0.50   \n",
       "80          81  B among aa   1.0   1.0    22    27     49   0.50   0.50   \n",
       "81          82           G   1.0   1.0    87    79    166   0.50   0.50   \n",
       "82          83  C among Gg   1.0   1.0    47    40     87   0.50   0.50   \n",
       "83          84  C among gg   1.0   1.0    38    41     79   0.50   0.50   \n",
       "\n",
       "      $\\chi$  Squared $\\chi$  $\\chi^2$  \n",
       "0  -0.758317        0.575045  0.575045  \n",
       "1   0.219343        0.048111  0.048111  \n",
       "2   0.688247        0.473684  0.473684  \n",
       "3   0.292770        0.085714  0.085714  \n",
       "4   0.311086        0.096774  0.096774  \n",
       "..       ...             ...       ...  \n",
       "79 -0.142857        0.020408  0.020408  \n",
       "80 -0.714286        0.510204  0.510204  \n",
       "81  0.620920        0.385542  0.385542  \n",
       "82  0.750479        0.563218  0.563218  \n",
       "83 -0.337526        0.113924  0.113924  \n",
       "\n",
       "[84 rows x 12 columns]"
      ]
     },
     "execution_count": 8,
     "metadata": {},
     "output_type": "execute_result"
    }
   ],
   "source": [
    "Edwards = pd.read_csv('EdwardsTable2.csv',delimiter=', ')\n",
    "Edwards['prob1'] = (Edwards['Exp1']/(Edwards['Exp1']+Edwards['Exp2']))\n",
    "Edwards['prob2'] = (Edwards['Exp2']/(Edwards['Exp1']+Edwards['Exp2']))\n",
    "Edwards['$\\chi$'] = (Edwards['Obs1'] - (Edwards['Total']*Edwards['prob1']))/np.sqrt(Edwards['Total']*Edwards['prob1']*Edwards['prob2'])\n",
    "Edwards['Squared $\\chi$'] = Edwards['$\\chi$']**2\n",
    "Edwards['$\\chi^2$'] = (Edwards['Obs1'] - (Edwards['Total']*Edwards['prob1']))**2/(Edwards['Total']*Edwards['prob1']) + (Edwards['Obs2'] - (Edwards['Total']*Edwards['prob2']))**2/(Edwards['Total']*Edwards['prob2'])\n",
    "Edwards"
   ]
  },
  {
   "cell_type": "markdown",
   "metadata": {},
   "source": [
    "If I assume a binomial distribution (essentially, a process which generates only two, mutually-exclusive outcomes), I can see how the second formula becomes the first. In essence, because of the binomial distribution assumption, the expected value ($E_{i}$) of a \"successful\" event would be $Np$, where $N$ would be the number of events and $p$ would be its likelihood of occurring. Conversely, the expected value (say, $E_{j}$) of the \"failure\" event would be $Nq$, in this case $q=1-p$ since there are only two, mutually exclusive outcomes in the outcome space for one event.  \n",
    "  \n",
    "  Now, let's do some math. I'll go from second formula to the first:  \n",
    "  \n",
    "For binomially-distributed random variables, $E_{s} = Np$ and $E_{f} = Nq$. Then,  \n",
    "  \n",
    "### $\\chi^2 = \\sum\\limits_{i}\\frac{(O_{i}-E_{i})^2}{E_{i}} = \\frac{(O_{s}-E_{s})^2}{E_{s}} + \\frac{(O_{f}-E_{f})^2}{E_{f}}= \\frac{(O_{s}-Np)^2}{Np} + \\frac{(O_{f}-Nq)^2}{Nq}$\n",
    "### $\\chi^2 = \\frac{q(O_{s}-Np)^2 + p(O_{f}-Nq)^2}{Npq}$  \n",
    "\n",
    "Another implication of this binomial distribution is that $O_{s}+O_{f}=N$. As such,  \n",
    "### $\\chi^2 = \\frac{q(O_{s}-Np)^2 + p(N-O_{s}-Nq)^2}{Npq}= \\frac{q(O_{s}-Np)^2 + p(-O_{s}+N-Nq)^2}{Npq}$\n",
    "### $\\chi^2 = \\frac{q(O_{s}-Np)^2 + p(-O_{s}+N(1-q))^2}{Npq}= \\frac{q(O_{s}-Np)^2 + p(-O_{s}+Np)^2}{Npq}$\n",
    "### $\\chi^2 = \\frac{(O_{s}-Np)^2(q + p)}{Npq}= \\frac{(O_{s}-Np)^2}{Npq}$\n",
    "## $\\chi = \\frac{O_{s}-Np}{\\sqrt{Npq}}$"
   ]
  },
  {
   "cell_type": "markdown",
   "metadata": {},
   "source": [
    "### 1.c) Consider any one of the experiments enumerated by Edwards (look on page 306 of his paper for more details). Regardless of the details of the biology, Mendel’s laws allow us to make quantitative predictions of the phenotypic ratios of any particular trait. These expectations are given in the Exp1 and Exp2 columns. Using these expected ratios, simulate one of Mendel’s experiments many times (justify how many is “many”) using your code from part 1a or as a biased coin flip, and calculate the $\\chi$ and $\\chi^2$ statistics for each simulation. Plot a distribution of these statistics and plot a line showing where Mendel’s data for this experiment   fall on this distribution. Plot the cumulative distribution of these statistics and show where Mendel’s data fall. Report the empirical probability of observing a statistic larger than Mendel’s and the probability of observing a statistic smaller."
   ]
  },
  {
   "cell_type": "markdown",
   "metadata": {},
   "source": [
    "How many, given the computer at our disposal, would be a minimum of 10k. CLT would come into play here, but it would prescribe approximately 1000-2000 simulations, so 10k is safe from that point of view."
   ]
  },
  {
   "cell_type": "code",
   "execution_count": 9,
   "metadata": {
    "ExecuteTime": {
     "end_time": "2021-02-23T18:17:58.810080Z",
     "start_time": "2021-02-23T18:17:58.798078Z"
    }
   },
   "outputs": [],
   "source": [
    "def get_cdfs(dist_data):\n",
    "    \"\"\"\n",
    "    Returns the sorted unique value of dist_data, and a list of percentiles (after normalizing)\n",
    "    \"\"\"\n",
    "    \n",
    "    data_sorted = np.sort(dist_data)\n",
    "\n",
    "    perc = np.arange(len(dist_data)) / (len(dist_data) - 1)\n",
    "    \n",
    "    return data_sorted,perc"
   ]
  },
  {
   "cell_type": "code",
   "execution_count": 10,
   "metadata": {
    "ExecuteTime": {
     "end_time": "2021-02-23T18:26:16.620884Z",
     "start_time": "2021-02-23T18:17:58.817845Z"
    }
   },
   "outputs": [],
   "source": [
    "N_sim = 10000\n",
    "pDom = Edwards.loc[0,'prob1']\n",
    "pRec = Edwards.loc[0,'prob2']\n",
    "num_cross = Edwards.loc[0,'Total']\n",
    "mendel_chi = Edwards.loc[0,'$\\chi$']\n",
    "mendel_chisquare = Edwards.loc[0,'$\\chi^2$']\n",
    "chi = []\n",
    "chi_square = []\n",
    "\n",
    "for i in range(N_sim):\n",
    "    experiment = cross_one_trait(Plant1,Plant2,num_cross)\n",
    "    rec = experiment.count([Rec,Rec])\n",
    "    dom = num_cross - rec\n",
    "    chi.append((dom - (num_cross*pDom))/math.sqrt(num_cross*pDom*pRec))\n",
    "    temp = (dom - (num_cross*pDom))**2/(num_cross*pDom) + (rec - (num_cross*pRec))**2/(num_cross*pRec)\n",
    "    chi_square.append(temp)\n",
    "    \n",
    "chi_CDF = get_cdfs(chi)\n",
    "chi_square_CDF = get_cdfs(chi_square)"
   ]
  },
  {
   "cell_type": "code",
   "execution_count": 14,
   "metadata": {
    "ExecuteTime": {
     "end_time": "2021-02-23T18:26:18.472969Z",
     "start_time": "2021-02-23T18:26:16.628837Z"
    }
   },
   "outputs": [
    {
     "data": {
      "application/javascript": [
       "/* Put everything inside the global mpl namespace */\n",
       "/* global mpl */\n",
       "window.mpl = {};\n",
       "\n",
       "mpl.get_websocket_type = function () {\n",
       "    if (typeof WebSocket !== 'undefined') {\n",
       "        return WebSocket;\n",
       "    } else if (typeof MozWebSocket !== 'undefined') {\n",
       "        return MozWebSocket;\n",
       "    } else {\n",
       "        alert(\n",
       "            'Your browser does not have WebSocket support. ' +\n",
       "                'Please try Chrome, Safari or Firefox ≥ 6. ' +\n",
       "                'Firefox 4 and 5 are also supported but you ' +\n",
       "                'have to enable WebSockets in about:config.'\n",
       "        );\n",
       "    }\n",
       "};\n",
       "\n",
       "mpl.figure = function (figure_id, websocket, ondownload, parent_element) {\n",
       "    this.id = figure_id;\n",
       "\n",
       "    this.ws = websocket;\n",
       "\n",
       "    this.supports_binary = this.ws.binaryType !== undefined;\n",
       "\n",
       "    if (!this.supports_binary) {\n",
       "        var warnings = document.getElementById('mpl-warnings');\n",
       "        if (warnings) {\n",
       "            warnings.style.display = 'block';\n",
       "            warnings.textContent =\n",
       "                'This browser does not support binary websocket messages. ' +\n",
       "                'Performance may be slow.';\n",
       "        }\n",
       "    }\n",
       "\n",
       "    this.imageObj = new Image();\n",
       "\n",
       "    this.context = undefined;\n",
       "    this.message = undefined;\n",
       "    this.canvas = undefined;\n",
       "    this.rubberband_canvas = undefined;\n",
       "    this.rubberband_context = undefined;\n",
       "    this.format_dropdown = undefined;\n",
       "\n",
       "    this.image_mode = 'full';\n",
       "\n",
       "    this.root = document.createElement('div');\n",
       "    this.root.setAttribute('style', 'display: inline-block');\n",
       "    this._root_extra_style(this.root);\n",
       "\n",
       "    parent_element.appendChild(this.root);\n",
       "\n",
       "    this._init_header(this);\n",
       "    this._init_canvas(this);\n",
       "    this._init_toolbar(this);\n",
       "\n",
       "    var fig = this;\n",
       "\n",
       "    this.waiting = false;\n",
       "\n",
       "    this.ws.onopen = function () {\n",
       "        fig.send_message('supports_binary', { value: fig.supports_binary });\n",
       "        fig.send_message('send_image_mode', {});\n",
       "        if (fig.ratio !== 1) {\n",
       "            fig.send_message('set_dpi_ratio', { dpi_ratio: fig.ratio });\n",
       "        }\n",
       "        fig.send_message('refresh', {});\n",
       "    };\n",
       "\n",
       "    this.imageObj.onload = function () {\n",
       "        if (fig.image_mode === 'full') {\n",
       "            // Full images could contain transparency (where diff images\n",
       "            // almost always do), so we need to clear the canvas so that\n",
       "            // there is no ghosting.\n",
       "            fig.context.clearRect(0, 0, fig.canvas.width, fig.canvas.height);\n",
       "        }\n",
       "        fig.context.drawImage(fig.imageObj, 0, 0);\n",
       "    };\n",
       "\n",
       "    this.imageObj.onunload = function () {\n",
       "        fig.ws.close();\n",
       "    };\n",
       "\n",
       "    this.ws.onmessage = this._make_on_message_function(this);\n",
       "\n",
       "    this.ondownload = ondownload;\n",
       "};\n",
       "\n",
       "mpl.figure.prototype._init_header = function () {\n",
       "    var titlebar = document.createElement('div');\n",
       "    titlebar.classList =\n",
       "        'ui-dialog-titlebar ui-widget-header ui-corner-all ui-helper-clearfix';\n",
       "    var titletext = document.createElement('div');\n",
       "    titletext.classList = 'ui-dialog-title';\n",
       "    titletext.setAttribute(\n",
       "        'style',\n",
       "        'width: 100%; text-align: center; padding: 3px;'\n",
       "    );\n",
       "    titlebar.appendChild(titletext);\n",
       "    this.root.appendChild(titlebar);\n",
       "    this.header = titletext;\n",
       "};\n",
       "\n",
       "mpl.figure.prototype._canvas_extra_style = function (_canvas_div) {};\n",
       "\n",
       "mpl.figure.prototype._root_extra_style = function (_canvas_div) {};\n",
       "\n",
       "mpl.figure.prototype._init_canvas = function () {\n",
       "    var fig = this;\n",
       "\n",
       "    var canvas_div = (this.canvas_div = document.createElement('div'));\n",
       "    canvas_div.setAttribute(\n",
       "        'style',\n",
       "        'border: 1px solid #ddd;' +\n",
       "            'box-sizing: content-box;' +\n",
       "            'clear: both;' +\n",
       "            'min-height: 1px;' +\n",
       "            'min-width: 1px;' +\n",
       "            'outline: 0;' +\n",
       "            'overflow: hidden;' +\n",
       "            'position: relative;' +\n",
       "            'resize: both;'\n",
       "    );\n",
       "\n",
       "    function on_keyboard_event_closure(name) {\n",
       "        return function (event) {\n",
       "            return fig.key_event(event, name);\n",
       "        };\n",
       "    }\n",
       "\n",
       "    canvas_div.addEventListener(\n",
       "        'keydown',\n",
       "        on_keyboard_event_closure('key_press')\n",
       "    );\n",
       "    canvas_div.addEventListener(\n",
       "        'keyup',\n",
       "        on_keyboard_event_closure('key_release')\n",
       "    );\n",
       "\n",
       "    this._canvas_extra_style(canvas_div);\n",
       "    this.root.appendChild(canvas_div);\n",
       "\n",
       "    var canvas = (this.canvas = document.createElement('canvas'));\n",
       "    canvas.classList.add('mpl-canvas');\n",
       "    canvas.setAttribute('style', 'box-sizing: content-box;');\n",
       "\n",
       "    this.context = canvas.getContext('2d');\n",
       "\n",
       "    var backingStore =\n",
       "        this.context.backingStorePixelRatio ||\n",
       "        this.context.webkitBackingStorePixelRatio ||\n",
       "        this.context.mozBackingStorePixelRatio ||\n",
       "        this.context.msBackingStorePixelRatio ||\n",
       "        this.context.oBackingStorePixelRatio ||\n",
       "        this.context.backingStorePixelRatio ||\n",
       "        1;\n",
       "\n",
       "    this.ratio = (window.devicePixelRatio || 1) / backingStore;\n",
       "\n",
       "    var rubberband_canvas = (this.rubberband_canvas = document.createElement(\n",
       "        'canvas'\n",
       "    ));\n",
       "    rubberband_canvas.setAttribute(\n",
       "        'style',\n",
       "        'box-sizing: content-box; position: absolute; left: 0; top: 0; z-index: 1;'\n",
       "    );\n",
       "\n",
       "    // Apply a ponyfill if ResizeObserver is not implemented by browser.\n",
       "    if (this.ResizeObserver === undefined) {\n",
       "        if (window.ResizeObserver !== undefined) {\n",
       "            this.ResizeObserver = window.ResizeObserver;\n",
       "        } else {\n",
       "            var obs = _JSXTOOLS_RESIZE_OBSERVER({});\n",
       "            this.ResizeObserver = obs.ResizeObserver;\n",
       "        }\n",
       "    }\n",
       "\n",
       "    this.resizeObserverInstance = new this.ResizeObserver(function (entries) {\n",
       "        var nentries = entries.length;\n",
       "        for (var i = 0; i < nentries; i++) {\n",
       "            var entry = entries[i];\n",
       "            var width, height;\n",
       "            if (entry.contentBoxSize) {\n",
       "                if (entry.contentBoxSize instanceof Array) {\n",
       "                    // Chrome 84 implements new version of spec.\n",
       "                    width = entry.contentBoxSize[0].inlineSize;\n",
       "                    height = entry.contentBoxSize[0].blockSize;\n",
       "                } else {\n",
       "                    // Firefox implements old version of spec.\n",
       "                    width = entry.contentBoxSize.inlineSize;\n",
       "                    height = entry.contentBoxSize.blockSize;\n",
       "                }\n",
       "            } else {\n",
       "                // Chrome <84 implements even older version of spec.\n",
       "                width = entry.contentRect.width;\n",
       "                height = entry.contentRect.height;\n",
       "            }\n",
       "\n",
       "            // Keep the size of the canvas and rubber band canvas in sync with\n",
       "            // the canvas container.\n",
       "            if (entry.devicePixelContentBoxSize) {\n",
       "                // Chrome 84 implements new version of spec.\n",
       "                canvas.setAttribute(\n",
       "                    'width',\n",
       "                    entry.devicePixelContentBoxSize[0].inlineSize\n",
       "                );\n",
       "                canvas.setAttribute(\n",
       "                    'height',\n",
       "                    entry.devicePixelContentBoxSize[0].blockSize\n",
       "                );\n",
       "            } else {\n",
       "                canvas.setAttribute('width', width * fig.ratio);\n",
       "                canvas.setAttribute('height', height * fig.ratio);\n",
       "            }\n",
       "            canvas.setAttribute(\n",
       "                'style',\n",
       "                'width: ' + width + 'px; height: ' + height + 'px;'\n",
       "            );\n",
       "\n",
       "            rubberband_canvas.setAttribute('width', width);\n",
       "            rubberband_canvas.setAttribute('height', height);\n",
       "\n",
       "            // And update the size in Python. We ignore the initial 0/0 size\n",
       "            // that occurs as the element is placed into the DOM, which should\n",
       "            // otherwise not happen due to the minimum size styling.\n",
       "            if (fig.ws.readyState == 1 && width != 0 && height != 0) {\n",
       "                fig.request_resize(width, height);\n",
       "            }\n",
       "        }\n",
       "    });\n",
       "    this.resizeObserverInstance.observe(canvas_div);\n",
       "\n",
       "    function on_mouse_event_closure(name) {\n",
       "        return function (event) {\n",
       "            return fig.mouse_event(event, name);\n",
       "        };\n",
       "    }\n",
       "\n",
       "    rubberband_canvas.addEventListener(\n",
       "        'mousedown',\n",
       "        on_mouse_event_closure('button_press')\n",
       "    );\n",
       "    rubberband_canvas.addEventListener(\n",
       "        'mouseup',\n",
       "        on_mouse_event_closure('button_release')\n",
       "    );\n",
       "    // Throttle sequential mouse events to 1 every 20ms.\n",
       "    rubberband_canvas.addEventListener(\n",
       "        'mousemove',\n",
       "        on_mouse_event_closure('motion_notify')\n",
       "    );\n",
       "\n",
       "    rubberband_canvas.addEventListener(\n",
       "        'mouseenter',\n",
       "        on_mouse_event_closure('figure_enter')\n",
       "    );\n",
       "    rubberband_canvas.addEventListener(\n",
       "        'mouseleave',\n",
       "        on_mouse_event_closure('figure_leave')\n",
       "    );\n",
       "\n",
       "    canvas_div.addEventListener('wheel', function (event) {\n",
       "        if (event.deltaY < 0) {\n",
       "            event.step = 1;\n",
       "        } else {\n",
       "            event.step = -1;\n",
       "        }\n",
       "        on_mouse_event_closure('scroll')(event);\n",
       "    });\n",
       "\n",
       "    canvas_div.appendChild(canvas);\n",
       "    canvas_div.appendChild(rubberband_canvas);\n",
       "\n",
       "    this.rubberband_context = rubberband_canvas.getContext('2d');\n",
       "    this.rubberband_context.strokeStyle = '#000000';\n",
       "\n",
       "    this._resize_canvas = function (width, height, forward) {\n",
       "        if (forward) {\n",
       "            canvas_div.style.width = width + 'px';\n",
       "            canvas_div.style.height = height + 'px';\n",
       "        }\n",
       "    };\n",
       "\n",
       "    // Disable right mouse context menu.\n",
       "    this.rubberband_canvas.addEventListener('contextmenu', function (_e) {\n",
       "        event.preventDefault();\n",
       "        return false;\n",
       "    });\n",
       "\n",
       "    function set_focus() {\n",
       "        canvas.focus();\n",
       "        canvas_div.focus();\n",
       "    }\n",
       "\n",
       "    window.setTimeout(set_focus, 100);\n",
       "};\n",
       "\n",
       "mpl.figure.prototype._init_toolbar = function () {\n",
       "    var fig = this;\n",
       "\n",
       "    var toolbar = document.createElement('div');\n",
       "    toolbar.classList = 'mpl-toolbar';\n",
       "    this.root.appendChild(toolbar);\n",
       "\n",
       "    function on_click_closure(name) {\n",
       "        return function (_event) {\n",
       "            return fig.toolbar_button_onclick(name);\n",
       "        };\n",
       "    }\n",
       "\n",
       "    function on_mouseover_closure(tooltip) {\n",
       "        return function (event) {\n",
       "            if (!event.currentTarget.disabled) {\n",
       "                return fig.toolbar_button_onmouseover(tooltip);\n",
       "            }\n",
       "        };\n",
       "    }\n",
       "\n",
       "    fig.buttons = {};\n",
       "    var buttonGroup = document.createElement('div');\n",
       "    buttonGroup.classList = 'mpl-button-group';\n",
       "    for (var toolbar_ind in mpl.toolbar_items) {\n",
       "        var name = mpl.toolbar_items[toolbar_ind][0];\n",
       "        var tooltip = mpl.toolbar_items[toolbar_ind][1];\n",
       "        var image = mpl.toolbar_items[toolbar_ind][2];\n",
       "        var method_name = mpl.toolbar_items[toolbar_ind][3];\n",
       "\n",
       "        if (!name) {\n",
       "            /* Instead of a spacer, we start a new button group. */\n",
       "            if (buttonGroup.hasChildNodes()) {\n",
       "                toolbar.appendChild(buttonGroup);\n",
       "            }\n",
       "            buttonGroup = document.createElement('div');\n",
       "            buttonGroup.classList = 'mpl-button-group';\n",
       "            continue;\n",
       "        }\n",
       "\n",
       "        var button = (fig.buttons[name] = document.createElement('button'));\n",
       "        button.classList = 'mpl-widget';\n",
       "        button.setAttribute('role', 'button');\n",
       "        button.setAttribute('aria-disabled', 'false');\n",
       "        button.addEventListener('click', on_click_closure(method_name));\n",
       "        button.addEventListener('mouseover', on_mouseover_closure(tooltip));\n",
       "\n",
       "        var icon_img = document.createElement('img');\n",
       "        icon_img.src = '_images/' + image + '.png';\n",
       "        icon_img.srcset = '_images/' + image + '_large.png 2x';\n",
       "        icon_img.alt = tooltip;\n",
       "        button.appendChild(icon_img);\n",
       "\n",
       "        buttonGroup.appendChild(button);\n",
       "    }\n",
       "\n",
       "    if (buttonGroup.hasChildNodes()) {\n",
       "        toolbar.appendChild(buttonGroup);\n",
       "    }\n",
       "\n",
       "    var fmt_picker = document.createElement('select');\n",
       "    fmt_picker.classList = 'mpl-widget';\n",
       "    toolbar.appendChild(fmt_picker);\n",
       "    this.format_dropdown = fmt_picker;\n",
       "\n",
       "    for (var ind in mpl.extensions) {\n",
       "        var fmt = mpl.extensions[ind];\n",
       "        var option = document.createElement('option');\n",
       "        option.selected = fmt === mpl.default_extension;\n",
       "        option.innerHTML = fmt;\n",
       "        fmt_picker.appendChild(option);\n",
       "    }\n",
       "\n",
       "    var status_bar = document.createElement('span');\n",
       "    status_bar.classList = 'mpl-message';\n",
       "    toolbar.appendChild(status_bar);\n",
       "    this.message = status_bar;\n",
       "};\n",
       "\n",
       "mpl.figure.prototype.request_resize = function (x_pixels, y_pixels) {\n",
       "    // Request matplotlib to resize the figure. Matplotlib will then trigger a resize in the client,\n",
       "    // which will in turn request a refresh of the image.\n",
       "    this.send_message('resize', { width: x_pixels, height: y_pixels });\n",
       "};\n",
       "\n",
       "mpl.figure.prototype.send_message = function (type, properties) {\n",
       "    properties['type'] = type;\n",
       "    properties['figure_id'] = this.id;\n",
       "    this.ws.send(JSON.stringify(properties));\n",
       "};\n",
       "\n",
       "mpl.figure.prototype.send_draw_message = function () {\n",
       "    if (!this.waiting) {\n",
       "        this.waiting = true;\n",
       "        this.ws.send(JSON.stringify({ type: 'draw', figure_id: this.id }));\n",
       "    }\n",
       "};\n",
       "\n",
       "mpl.figure.prototype.handle_save = function (fig, _msg) {\n",
       "    var format_dropdown = fig.format_dropdown;\n",
       "    var format = format_dropdown.options[format_dropdown.selectedIndex].value;\n",
       "    fig.ondownload(fig, format);\n",
       "};\n",
       "\n",
       "mpl.figure.prototype.handle_resize = function (fig, msg) {\n",
       "    var size = msg['size'];\n",
       "    if (size[0] !== fig.canvas.width || size[1] !== fig.canvas.height) {\n",
       "        fig._resize_canvas(size[0], size[1], msg['forward']);\n",
       "        fig.send_message('refresh', {});\n",
       "    }\n",
       "};\n",
       "\n",
       "mpl.figure.prototype.handle_rubberband = function (fig, msg) {\n",
       "    var x0 = msg['x0'] / fig.ratio;\n",
       "    var y0 = (fig.canvas.height - msg['y0']) / fig.ratio;\n",
       "    var x1 = msg['x1'] / fig.ratio;\n",
       "    var y1 = (fig.canvas.height - msg['y1']) / fig.ratio;\n",
       "    x0 = Math.floor(x0) + 0.5;\n",
       "    y0 = Math.floor(y0) + 0.5;\n",
       "    x1 = Math.floor(x1) + 0.5;\n",
       "    y1 = Math.floor(y1) + 0.5;\n",
       "    var min_x = Math.min(x0, x1);\n",
       "    var min_y = Math.min(y0, y1);\n",
       "    var width = Math.abs(x1 - x0);\n",
       "    var height = Math.abs(y1 - y0);\n",
       "\n",
       "    fig.rubberband_context.clearRect(\n",
       "        0,\n",
       "        0,\n",
       "        fig.canvas.width / fig.ratio,\n",
       "        fig.canvas.height / fig.ratio\n",
       "    );\n",
       "\n",
       "    fig.rubberband_context.strokeRect(min_x, min_y, width, height);\n",
       "};\n",
       "\n",
       "mpl.figure.prototype.handle_figure_label = function (fig, msg) {\n",
       "    // Updates the figure title.\n",
       "    fig.header.textContent = msg['label'];\n",
       "};\n",
       "\n",
       "mpl.figure.prototype.handle_cursor = function (fig, msg) {\n",
       "    var cursor = msg['cursor'];\n",
       "    switch (cursor) {\n",
       "        case 0:\n",
       "            cursor = 'pointer';\n",
       "            break;\n",
       "        case 1:\n",
       "            cursor = 'default';\n",
       "            break;\n",
       "        case 2:\n",
       "            cursor = 'crosshair';\n",
       "            break;\n",
       "        case 3:\n",
       "            cursor = 'move';\n",
       "            break;\n",
       "    }\n",
       "    fig.rubberband_canvas.style.cursor = cursor;\n",
       "};\n",
       "\n",
       "mpl.figure.prototype.handle_message = function (fig, msg) {\n",
       "    fig.message.textContent = msg['message'];\n",
       "};\n",
       "\n",
       "mpl.figure.prototype.handle_draw = function (fig, _msg) {\n",
       "    // Request the server to send over a new figure.\n",
       "    fig.send_draw_message();\n",
       "};\n",
       "\n",
       "mpl.figure.prototype.handle_image_mode = function (fig, msg) {\n",
       "    fig.image_mode = msg['mode'];\n",
       "};\n",
       "\n",
       "mpl.figure.prototype.handle_history_buttons = function (fig, msg) {\n",
       "    for (var key in msg) {\n",
       "        if (!(key in fig.buttons)) {\n",
       "            continue;\n",
       "        }\n",
       "        fig.buttons[key].disabled = !msg[key];\n",
       "        fig.buttons[key].setAttribute('aria-disabled', !msg[key]);\n",
       "    }\n",
       "};\n",
       "\n",
       "mpl.figure.prototype.handle_navigate_mode = function (fig, msg) {\n",
       "    if (msg['mode'] === 'PAN') {\n",
       "        fig.buttons['Pan'].classList.add('active');\n",
       "        fig.buttons['Zoom'].classList.remove('active');\n",
       "    } else if (msg['mode'] === 'ZOOM') {\n",
       "        fig.buttons['Pan'].classList.remove('active');\n",
       "        fig.buttons['Zoom'].classList.add('active');\n",
       "    } else {\n",
       "        fig.buttons['Pan'].classList.remove('active');\n",
       "        fig.buttons['Zoom'].classList.remove('active');\n",
       "    }\n",
       "};\n",
       "\n",
       "mpl.figure.prototype.updated_canvas_event = function () {\n",
       "    // Called whenever the canvas gets updated.\n",
       "    this.send_message('ack', {});\n",
       "};\n",
       "\n",
       "// A function to construct a web socket function for onmessage handling.\n",
       "// Called in the figure constructor.\n",
       "mpl.figure.prototype._make_on_message_function = function (fig) {\n",
       "    return function socket_on_message(evt) {\n",
       "        if (evt.data instanceof Blob) {\n",
       "            /* FIXME: We get \"Resource interpreted as Image but\n",
       "             * transferred with MIME type text/plain:\" errors on\n",
       "             * Chrome.  But how to set the MIME type?  It doesn't seem\n",
       "             * to be part of the websocket stream */\n",
       "            evt.data.type = 'image/png';\n",
       "\n",
       "            /* Free the memory for the previous frames */\n",
       "            if (fig.imageObj.src) {\n",
       "                (window.URL || window.webkitURL).revokeObjectURL(\n",
       "                    fig.imageObj.src\n",
       "                );\n",
       "            }\n",
       "\n",
       "            fig.imageObj.src = (window.URL || window.webkitURL).createObjectURL(\n",
       "                evt.data\n",
       "            );\n",
       "            fig.updated_canvas_event();\n",
       "            fig.waiting = false;\n",
       "            return;\n",
       "        } else if (\n",
       "            typeof evt.data === 'string' &&\n",
       "            evt.data.slice(0, 21) === 'data:image/png;base64'\n",
       "        ) {\n",
       "            fig.imageObj.src = evt.data;\n",
       "            fig.updated_canvas_event();\n",
       "            fig.waiting = false;\n",
       "            return;\n",
       "        }\n",
       "\n",
       "        var msg = JSON.parse(evt.data);\n",
       "        var msg_type = msg['type'];\n",
       "\n",
       "        // Call the  \"handle_{type}\" callback, which takes\n",
       "        // the figure and JSON message as its only arguments.\n",
       "        try {\n",
       "            var callback = fig['handle_' + msg_type];\n",
       "        } catch (e) {\n",
       "            console.log(\n",
       "                \"No handler for the '\" + msg_type + \"' message type: \",\n",
       "                msg\n",
       "            );\n",
       "            return;\n",
       "        }\n",
       "\n",
       "        if (callback) {\n",
       "            try {\n",
       "                // console.log(\"Handling '\" + msg_type + \"' message: \", msg);\n",
       "                callback(fig, msg);\n",
       "            } catch (e) {\n",
       "                console.log(\n",
       "                    \"Exception inside the 'handler_\" + msg_type + \"' callback:\",\n",
       "                    e,\n",
       "                    e.stack,\n",
       "                    msg\n",
       "                );\n",
       "            }\n",
       "        }\n",
       "    };\n",
       "};\n",
       "\n",
       "// from http://stackoverflow.com/questions/1114465/getting-mouse-location-in-canvas\n",
       "mpl.findpos = function (e) {\n",
       "    //this section is from http://www.quirksmode.org/js/events_properties.html\n",
       "    var targ;\n",
       "    if (!e) {\n",
       "        e = window.event;\n",
       "    }\n",
       "    if (e.target) {\n",
       "        targ = e.target;\n",
       "    } else if (e.srcElement) {\n",
       "        targ = e.srcElement;\n",
       "    }\n",
       "    if (targ.nodeType === 3) {\n",
       "        // defeat Safari bug\n",
       "        targ = targ.parentNode;\n",
       "    }\n",
       "\n",
       "    // pageX,Y are the mouse positions relative to the document\n",
       "    var boundingRect = targ.getBoundingClientRect();\n",
       "    var x = e.pageX - (boundingRect.left + document.body.scrollLeft);\n",
       "    var y = e.pageY - (boundingRect.top + document.body.scrollTop);\n",
       "\n",
       "    return { x: x, y: y };\n",
       "};\n",
       "\n",
       "/*\n",
       " * return a copy of an object with only non-object keys\n",
       " * we need this to avoid circular references\n",
       " * http://stackoverflow.com/a/24161582/3208463\n",
       " */\n",
       "function simpleKeys(original) {\n",
       "    return Object.keys(original).reduce(function (obj, key) {\n",
       "        if (typeof original[key] !== 'object') {\n",
       "            obj[key] = original[key];\n",
       "        }\n",
       "        return obj;\n",
       "    }, {});\n",
       "}\n",
       "\n",
       "mpl.figure.prototype.mouse_event = function (event, name) {\n",
       "    var canvas_pos = mpl.findpos(event);\n",
       "\n",
       "    if (name === 'button_press') {\n",
       "        this.canvas.focus();\n",
       "        this.canvas_div.focus();\n",
       "    }\n",
       "\n",
       "    var x = canvas_pos.x * this.ratio;\n",
       "    var y = canvas_pos.y * this.ratio;\n",
       "\n",
       "    this.send_message(name, {\n",
       "        x: x,\n",
       "        y: y,\n",
       "        button: event.button,\n",
       "        step: event.step,\n",
       "        guiEvent: simpleKeys(event),\n",
       "    });\n",
       "\n",
       "    /* This prevents the web browser from automatically changing to\n",
       "     * the text insertion cursor when the button is pressed.  We want\n",
       "     * to control all of the cursor setting manually through the\n",
       "     * 'cursor' event from matplotlib */\n",
       "    event.preventDefault();\n",
       "    return false;\n",
       "};\n",
       "\n",
       "mpl.figure.prototype._key_event_extra = function (_event, _name) {\n",
       "    // Handle any extra behaviour associated with a key event\n",
       "};\n",
       "\n",
       "mpl.figure.prototype.key_event = function (event, name) {\n",
       "    // Prevent repeat events\n",
       "    if (name === 'key_press') {\n",
       "        if (event.which === this._key) {\n",
       "            return;\n",
       "        } else {\n",
       "            this._key = event.which;\n",
       "        }\n",
       "    }\n",
       "    if (name === 'key_release') {\n",
       "        this._key = null;\n",
       "    }\n",
       "\n",
       "    var value = '';\n",
       "    if (event.ctrlKey && event.which !== 17) {\n",
       "        value += 'ctrl+';\n",
       "    }\n",
       "    if (event.altKey && event.which !== 18) {\n",
       "        value += 'alt+';\n",
       "    }\n",
       "    if (event.shiftKey && event.which !== 16) {\n",
       "        value += 'shift+';\n",
       "    }\n",
       "\n",
       "    value += 'k';\n",
       "    value += event.which.toString();\n",
       "\n",
       "    this._key_event_extra(event, name);\n",
       "\n",
       "    this.send_message(name, { key: value, guiEvent: simpleKeys(event) });\n",
       "    return false;\n",
       "};\n",
       "\n",
       "mpl.figure.prototype.toolbar_button_onclick = function (name) {\n",
       "    if (name === 'download') {\n",
       "        this.handle_save(this, null);\n",
       "    } else {\n",
       "        this.send_message('toolbar_button', { name: name });\n",
       "    }\n",
       "};\n",
       "\n",
       "mpl.figure.prototype.toolbar_button_onmouseover = function (tooltip) {\n",
       "    this.message.textContent = tooltip;\n",
       "};\n",
       "\n",
       "///////////////// REMAINING CONTENT GENERATED BY embed_js.py /////////////////\n",
       "// prettier-ignore\n",
       "var _JSXTOOLS_RESIZE_OBSERVER=function(A){var t,i=new WeakMap,n=new WeakMap,a=new WeakMap,r=new WeakMap,o=new Set;function s(e){if(!(this instanceof s))throw new TypeError(\"Constructor requires 'new' operator\");i.set(this,e)}function h(){throw new TypeError(\"Function is not a constructor\")}function c(e,t,i,n){e=0 in arguments?Number(arguments[0]):0,t=1 in arguments?Number(arguments[1]):0,i=2 in arguments?Number(arguments[2]):0,n=3 in arguments?Number(arguments[3]):0,this.right=(this.x=this.left=e)+(this.width=i),this.bottom=(this.y=this.top=t)+(this.height=n),Object.freeze(this)}function d(){t=requestAnimationFrame(d);var s=new WeakMap,p=new Set;o.forEach((function(t){r.get(t).forEach((function(i){var r=t instanceof window.SVGElement,o=a.get(t),d=r?0:parseFloat(o.paddingTop),f=r?0:parseFloat(o.paddingRight),l=r?0:parseFloat(o.paddingBottom),u=r?0:parseFloat(o.paddingLeft),g=r?0:parseFloat(o.borderTopWidth),m=r?0:parseFloat(o.borderRightWidth),w=r?0:parseFloat(o.borderBottomWidth),b=u+f,F=d+l,v=(r?0:parseFloat(o.borderLeftWidth))+m,W=g+w,y=r?0:t.offsetHeight-W-t.clientHeight,E=r?0:t.offsetWidth-v-t.clientWidth,R=b+v,z=F+W,M=r?t.width:parseFloat(o.width)-R-E,O=r?t.height:parseFloat(o.height)-z-y;if(n.has(t)){var k=n.get(t);if(k[0]===M&&k[1]===O)return}n.set(t,[M,O]);var S=Object.create(h.prototype);S.target=t,S.contentRect=new c(u,d,M,O),s.has(i)||(s.set(i,[]),p.add(i)),s.get(i).push(S)}))})),p.forEach((function(e){i.get(e).call(e,s.get(e),e)}))}return s.prototype.observe=function(i){if(i instanceof window.Element){r.has(i)||(r.set(i,new Set),o.add(i),a.set(i,window.getComputedStyle(i)));var n=r.get(i);n.has(this)||n.add(this),cancelAnimationFrame(t),t=requestAnimationFrame(d)}},s.prototype.unobserve=function(i){if(i instanceof window.Element&&r.has(i)){var n=r.get(i);n.has(this)&&(n.delete(this),n.size||(r.delete(i),o.delete(i))),n.size||r.delete(i),o.size||cancelAnimationFrame(t)}},A.DOMRectReadOnly=c,A.ResizeObserver=s,A.ResizeObserverEntry=h,A}; // eslint-disable-line\n",
       "mpl.toolbar_items = [[\"Home\", \"Reset original view\", \"fa fa-home icon-home\", \"home\"], [\"Back\", \"Back to previous view\", \"fa fa-arrow-left icon-arrow-left\", \"back\"], [\"Forward\", \"Forward to next view\", \"fa fa-arrow-right icon-arrow-right\", \"forward\"], [\"\", \"\", \"\", \"\"], [\"Pan\", \"Left button pans, Right button zooms\\nx/y fixes axis, CTRL fixes aspect\", \"fa fa-arrows icon-move\", \"pan\"], [\"Zoom\", \"Zoom to rectangle\\nx/y fixes axis, CTRL fixes aspect\", \"fa fa-square-o icon-check-empty\", \"zoom\"], [\"\", \"\", \"\", \"\"], [\"Download\", \"Download plot\", \"fa fa-floppy-o icon-save\", \"download\"]];\n",
       "\n",
       "mpl.extensions = [\"eps\", \"jpeg\", \"pdf\", \"png\", \"ps\", \"raw\", \"svg\", \"tif\"];\n",
       "\n",
       "mpl.default_extension = \"png\";/* global mpl */\n",
       "\n",
       "var comm_websocket_adapter = function (comm) {\n",
       "    // Create a \"websocket\"-like object which calls the given IPython comm\n",
       "    // object with the appropriate methods. Currently this is a non binary\n",
       "    // socket, so there is still some room for performance tuning.\n",
       "    var ws = {};\n",
       "\n",
       "    ws.close = function () {\n",
       "        comm.close();\n",
       "    };\n",
       "    ws.send = function (m) {\n",
       "        //console.log('sending', m);\n",
       "        comm.send(m);\n",
       "    };\n",
       "    // Register the callback with on_msg.\n",
       "    comm.on_msg(function (msg) {\n",
       "        //console.log('receiving', msg['content']['data'], msg);\n",
       "        // Pass the mpl event to the overridden (by mpl) onmessage function.\n",
       "        ws.onmessage(msg['content']['data']);\n",
       "    });\n",
       "    return ws;\n",
       "};\n",
       "\n",
       "mpl.mpl_figure_comm = function (comm, msg) {\n",
       "    // This is the function which gets called when the mpl process\n",
       "    // starts-up an IPython Comm through the \"matplotlib\" channel.\n",
       "\n",
       "    var id = msg.content.data.id;\n",
       "    // Get hold of the div created by the display call when the Comm\n",
       "    // socket was opened in Python.\n",
       "    var element = document.getElementById(id);\n",
       "    var ws_proxy = comm_websocket_adapter(comm);\n",
       "\n",
       "    function ondownload(figure, _format) {\n",
       "        window.open(figure.canvas.toDataURL());\n",
       "    }\n",
       "\n",
       "    var fig = new mpl.figure(id, ws_proxy, ondownload, element);\n",
       "\n",
       "    // Call onopen now - mpl needs it, as it is assuming we've passed it a real\n",
       "    // web socket which is closed, not our websocket->open comm proxy.\n",
       "    ws_proxy.onopen();\n",
       "\n",
       "    fig.parent_element = element;\n",
       "    fig.cell_info = mpl.find_output_cell(\"<div id='\" + id + \"'></div>\");\n",
       "    if (!fig.cell_info) {\n",
       "        console.error('Failed to find cell for figure', id, fig);\n",
       "        return;\n",
       "    }\n",
       "    fig.cell_info[0].output_area.element.on(\n",
       "        'cleared',\n",
       "        { fig: fig },\n",
       "        fig._remove_fig_handler\n",
       "    );\n",
       "};\n",
       "\n",
       "mpl.figure.prototype.handle_close = function (fig, msg) {\n",
       "    var width = fig.canvas.width / fig.ratio;\n",
       "    fig.cell_info[0].output_area.element.off(\n",
       "        'cleared',\n",
       "        fig._remove_fig_handler\n",
       "    );\n",
       "    fig.resizeObserverInstance.unobserve(fig.canvas_div);\n",
       "\n",
       "    // Update the output cell to use the data from the current canvas.\n",
       "    fig.push_to_output();\n",
       "    var dataURL = fig.canvas.toDataURL();\n",
       "    // Re-enable the keyboard manager in IPython - without this line, in FF,\n",
       "    // the notebook keyboard shortcuts fail.\n",
       "    IPython.keyboard_manager.enable();\n",
       "    fig.parent_element.innerHTML =\n",
       "        '<img src=\"' + dataURL + '\" width=\"' + width + '\">';\n",
       "    fig.close_ws(fig, msg);\n",
       "};\n",
       "\n",
       "mpl.figure.prototype.close_ws = function (fig, msg) {\n",
       "    fig.send_message('closing', msg);\n",
       "    // fig.ws.close()\n",
       "};\n",
       "\n",
       "mpl.figure.prototype.push_to_output = function (_remove_interactive) {\n",
       "    // Turn the data on the canvas into data in the output cell.\n",
       "    var width = this.canvas.width / this.ratio;\n",
       "    var dataURL = this.canvas.toDataURL();\n",
       "    this.cell_info[1]['text/html'] =\n",
       "        '<img src=\"' + dataURL + '\" width=\"' + width + '\">';\n",
       "};\n",
       "\n",
       "mpl.figure.prototype.updated_canvas_event = function () {\n",
       "    // Tell IPython that the notebook contents must change.\n",
       "    IPython.notebook.set_dirty(true);\n",
       "    this.send_message('ack', {});\n",
       "    var fig = this;\n",
       "    // Wait a second, then push the new image to the DOM so\n",
       "    // that it is saved nicely (might be nice to debounce this).\n",
       "    setTimeout(function () {\n",
       "        fig.push_to_output();\n",
       "    }, 1000);\n",
       "};\n",
       "\n",
       "mpl.figure.prototype._init_toolbar = function () {\n",
       "    var fig = this;\n",
       "\n",
       "    var toolbar = document.createElement('div');\n",
       "    toolbar.classList = 'btn-toolbar';\n",
       "    this.root.appendChild(toolbar);\n",
       "\n",
       "    function on_click_closure(name) {\n",
       "        return function (_event) {\n",
       "            return fig.toolbar_button_onclick(name);\n",
       "        };\n",
       "    }\n",
       "\n",
       "    function on_mouseover_closure(tooltip) {\n",
       "        return function (event) {\n",
       "            if (!event.currentTarget.disabled) {\n",
       "                return fig.toolbar_button_onmouseover(tooltip);\n",
       "            }\n",
       "        };\n",
       "    }\n",
       "\n",
       "    fig.buttons = {};\n",
       "    var buttonGroup = document.createElement('div');\n",
       "    buttonGroup.classList = 'btn-group';\n",
       "    var button;\n",
       "    for (var toolbar_ind in mpl.toolbar_items) {\n",
       "        var name = mpl.toolbar_items[toolbar_ind][0];\n",
       "        var tooltip = mpl.toolbar_items[toolbar_ind][1];\n",
       "        var image = mpl.toolbar_items[toolbar_ind][2];\n",
       "        var method_name = mpl.toolbar_items[toolbar_ind][3];\n",
       "\n",
       "        if (!name) {\n",
       "            /* Instead of a spacer, we start a new button group. */\n",
       "            if (buttonGroup.hasChildNodes()) {\n",
       "                toolbar.appendChild(buttonGroup);\n",
       "            }\n",
       "            buttonGroup = document.createElement('div');\n",
       "            buttonGroup.classList = 'btn-group';\n",
       "            continue;\n",
       "        }\n",
       "\n",
       "        button = fig.buttons[name] = document.createElement('button');\n",
       "        button.classList = 'btn btn-default';\n",
       "        button.href = '#';\n",
       "        button.title = name;\n",
       "        button.innerHTML = '<i class=\"fa ' + image + ' fa-lg\"></i>';\n",
       "        button.addEventListener('click', on_click_closure(method_name));\n",
       "        button.addEventListener('mouseover', on_mouseover_closure(tooltip));\n",
       "        buttonGroup.appendChild(button);\n",
       "    }\n",
       "\n",
       "    if (buttonGroup.hasChildNodes()) {\n",
       "        toolbar.appendChild(buttonGroup);\n",
       "    }\n",
       "\n",
       "    // Add the status bar.\n",
       "    var status_bar = document.createElement('span');\n",
       "    status_bar.classList = 'mpl-message pull-right';\n",
       "    toolbar.appendChild(status_bar);\n",
       "    this.message = status_bar;\n",
       "\n",
       "    // Add the close button to the window.\n",
       "    var buttongrp = document.createElement('div');\n",
       "    buttongrp.classList = 'btn-group inline pull-right';\n",
       "    button = document.createElement('button');\n",
       "    button.classList = 'btn btn-mini btn-primary';\n",
       "    button.href = '#';\n",
       "    button.title = 'Stop Interaction';\n",
       "    button.innerHTML = '<i class=\"fa fa-power-off icon-remove icon-large\"></i>';\n",
       "    button.addEventListener('click', function (_evt) {\n",
       "        fig.handle_close(fig, {});\n",
       "    });\n",
       "    button.addEventListener(\n",
       "        'mouseover',\n",
       "        on_mouseover_closure('Stop Interaction')\n",
       "    );\n",
       "    buttongrp.appendChild(button);\n",
       "    var titlebar = this.root.querySelector('.ui-dialog-titlebar');\n",
       "    titlebar.insertBefore(buttongrp, titlebar.firstChild);\n",
       "};\n",
       "\n",
       "mpl.figure.prototype._remove_fig_handler = function (event) {\n",
       "    var fig = event.data.fig;\n",
       "    if (event.target !== this) {\n",
       "        // Ignore bubbled events from children.\n",
       "        return;\n",
       "    }\n",
       "    fig.close_ws(fig, {});\n",
       "};\n",
       "\n",
       "mpl.figure.prototype._root_extra_style = function (el) {\n",
       "    el.style.boxSizing = 'content-box'; // override notebook setting of border-box.\n",
       "};\n",
       "\n",
       "mpl.figure.prototype._canvas_extra_style = function (el) {\n",
       "    // this is important to make the div 'focusable\n",
       "    el.setAttribute('tabindex', 0);\n",
       "    // reach out to IPython and tell the keyboard manager to turn it's self\n",
       "    // off when our div gets focus\n",
       "\n",
       "    // location in version 3\n",
       "    if (IPython.notebook.keyboard_manager) {\n",
       "        IPython.notebook.keyboard_manager.register_events(el);\n",
       "    } else {\n",
       "        // location in version 2\n",
       "        IPython.keyboard_manager.register_events(el);\n",
       "    }\n",
       "};\n",
       "\n",
       "mpl.figure.prototype._key_event_extra = function (event, _name) {\n",
       "    var manager = IPython.notebook.keyboard_manager;\n",
       "    if (!manager) {\n",
       "        manager = IPython.keyboard_manager;\n",
       "    }\n",
       "\n",
       "    // Check for shift+enter\n",
       "    if (event.shiftKey && event.which === 13) {\n",
       "        this.canvas_div.blur();\n",
       "        // select the cell after this one\n",
       "        var index = IPython.notebook.find_cell_index(this.cell_info[0]);\n",
       "        IPython.notebook.select(index + 1);\n",
       "    }\n",
       "};\n",
       "\n",
       "mpl.figure.prototype.handle_save = function (fig, _msg) {\n",
       "    fig.ondownload(fig, null);\n",
       "};\n",
       "\n",
       "mpl.find_output_cell = function (html_output) {\n",
       "    // Return the cell and output element which can be found *uniquely* in the notebook.\n",
       "    // Note - this is a bit hacky, but it is done because the \"notebook_saving.Notebook\"\n",
       "    // IPython event is triggered only after the cells have been serialised, which for\n",
       "    // our purposes (turning an active figure into a static one), is too late.\n",
       "    var cells = IPython.notebook.get_cells();\n",
       "    var ncells = cells.length;\n",
       "    for (var i = 0; i < ncells; i++) {\n",
       "        var cell = cells[i];\n",
       "        if (cell.cell_type === 'code') {\n",
       "            for (var j = 0; j < cell.output_area.outputs.length; j++) {\n",
       "                var data = cell.output_area.outputs[j];\n",
       "                if (data.data) {\n",
       "                    // IPython >= 3 moved mimebundle to data attribute of output\n",
       "                    data = data.data;\n",
       "                }\n",
       "                if (data['text/html'] === html_output) {\n",
       "                    return [cell, data, j];\n",
       "                }\n",
       "            }\n",
       "        }\n",
       "    }\n",
       "};\n",
       "\n",
       "// Register the function which deals with the matplotlib target/channel.\n",
       "// The kernel may be null if the page has been refreshed.\n",
       "if (IPython.notebook.kernel !== null) {\n",
       "    IPython.notebook.kernel.comm_manager.register_target(\n",
       "        'matplotlib',\n",
       "        mpl.mpl_figure_comm\n",
       "    );\n",
       "}\n"
      ],
      "text/plain": [
       "<IPython.core.display.Javascript object>"
      ]
     },
     "metadata": {},
     "output_type": "display_data"
    },
    {
     "data": {
      "text/html": [
       "<img src=\"data:image/png;base64,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\" width=\"1000\">"
      ],
      "text/plain": [
       "<IPython.core.display.HTML object>"
      ]
     },
     "metadata": {},
     "output_type": "display_data"
    }
   ],
   "source": [
    "%matplotlib nbagg\n",
    "\n",
    "fig,[[ax,ax1],[ax2,ax3]] = plt.subplots(2,2,figsize=(10,8),sharex='col')\n",
    "sns.histplot(chi,stat='density',ax=ax)\n",
    "ax.set_ylabel('Frequency')\n",
    "ax.set_xlabel('$\\chi$ values')\n",
    "ax.vlines(mendel_chi,0,ax.get_ylim()[-1],color='r',label=f\"Mendel's $\\chi$ value: {mendel_chi:.3f}\")\n",
    "ax.grid(linestyle=':')\n",
    "ax.legend(loc='best')\n",
    "\n",
    "sns.histplot(chi_square,stat='density',ax=ax1)\n",
    "ax1.set_ylabel('Frequency')\n",
    "ax1.set_xlabel('$\\chi^2$ values')\n",
    "ax1.vlines(mendel_chisquare,0,ax1.get_ylim()[-1],color='r',label=f\"Mendel's $\\chi^2$ value: {mendel_chisquare:.3f}\")\n",
    "ax1.grid(linestyle=':')\n",
    "ax1.legend(loc='best')\n",
    "\n",
    "ax2.step(chi_CDF[0],chi_CDF[1])\n",
    "ax2.set_xlabel('$\\chi$ values')\n",
    "ax2.set_ylabel('$P(X<x)$')\n",
    "ax2.hlines(chi_CDF[1][chi_CDF[0] <= mendel_chi][-1],min(chi_CDF[0]),mendel_chi,color = 'C2',label=f\"Mendel's p-value: {chi_CDF[1][chi_CDF[0] <= mendel_chi][-1]:.3f}\")\n",
    "ax2.vlines(mendel_chi,0,chi_CDF[1][chi_CDF[0] <= mendel_chi][-1],color='C6',label=f\"Mendel's $\\chi$ value: {mendel_chi:.3f}\")\n",
    "ax2.grid(linestyle=':')\n",
    "ax2.legend(loc='best')\n",
    "\n",
    "ax3.step(chi_square_CDF[0],chi_square_CDF[1])\n",
    "ax3.set_xlabel('$\\chi^2$ values')\n",
    "ax3.set_ylabel('$P(X<x)$')\n",
    "ax3.hlines(chi_square_CDF[1][chi_square_CDF[0] <= mendel_chisquare][-1],min(chi_square_CDF[0]),mendel_chisquare,color = 'C2',label=f\"Mendel's p-value: {chi_square_CDF[1][chi_square_CDF[0] <= mendel_chisquare][-1]:.3f}\")\n",
    "ax3.vlines(mendel_chisquare,0,chi_square_CDF[1][chi_square_CDF[0] <= mendel_chisquare][-1],color = 'C6',label=f\"Mendel's $\\chi^2$ value: {mendel_chisquare:.3f}\")\n",
    "ax3.grid(linestyle=':')\n",
    "ax3.legend(loc='best')\n",
    "plt.show()"
   ]
  },
  {
   "cell_type": "markdown",
   "metadata": {},
   "source": [
    "The p-values report the empirical probability of observing a statistic smaller than or equal than Mendel’s.  \n",
    "And the probability of observing a statistic smaller:"
   ]
  },
  {
   "cell_type": "code",
   "execution_count": 12,
   "metadata": {
    "ExecuteTime": {
     "end_time": "2021-02-23T18:26:18.513794Z",
     "start_time": "2021-02-23T18:26:18.485739Z"
    }
   },
   "outputs": [
    {
     "name": "stdout",
     "output_type": "stream",
     "text": [
      "For the bottom-left: 0.762,For the bottom-right: {1-chi_square_CDF[1][chi_square_CDF[0] <= mendel_chisquare][-1]:.3f}\n"
     ]
    }
   ],
   "source": [
    "print(f\"For the bottom-left: {1-chi_CDF[1][chi_CDF[0] <= mendel_chi][-1]:.3f},\"\n",
    "      \"For the bottom-right: {1-chi_square_CDF[1][chi_square_CDF[0] <= mendel_chisquare][-1]:.3f}\")"
   ]
  },
  {
   "cell_type": "markdown",
   "metadata": {},
   "source": [
    "### 1.d) Simulate all of Mendel’s experiments several times, calculate the $\\chi^2$ statistic for each experiment in the simulation, and sum the $\\chi^2$ values from all the experiments in a given simulation. Simulate these experiments as biased coin tosses or using an appropriate binomial distribution (your code from problem 1a will likely be too slow), as suggested in the previous problem. Sum the $\\chi^2$ statistics from Mendel’s data. Plot the distribution and cumulative distribution of $\\chi_{84}^2=\\sum\\limits_{i=1}^{84}\\chi^2$ and show where Mendel data lie. Report the empirical probability of observing $\\chi_{84}^2$ larger than Mendel’s and the probability of observing a statistic smaller. Make a statement assessing the confidence we have in the null hypothesis given these probabilities (This is the process Fisher used to justify his suspicion of Mendel’s results, although he arrived at this number theoretically, rather than empirically)."
   ]
  },
  {
   "cell_type": "code",
   "execution_count": 15,
   "metadata": {
    "ExecuteTime": {
     "end_time": "2021-02-23T18:29:53.608694Z",
     "start_time": "2021-02-23T18:26:18.527828Z"
    }
   },
   "outputs": [],
   "source": [
    "total_chi_square = []\n",
    "total_mendel_chisquare = 0\n",
    "\n",
    "for i in range(N_sim):\n",
    "    chi_square = []\n",
    "    \n",
    "    for j in range(len(Edwards)):\n",
    "        pDom = Edwards.loc[j,'prob1']\n",
    "        pRec = Edwards.loc[j,'prob2']\n",
    "        num_cross = Edwards.loc[j,'Total']\n",
    "        if i==0:\n",
    "            total_mendel_chisquare += Edwards.loc[j,'$\\chi^2$']\n",
    "\n",
    "        dom = np.sum(np.random.rand(num_cross) <= pDom)\n",
    "        rec = num_cross - dom\n",
    "        temp = (dom - (num_cross*pDom))**2/(num_cross*pDom) + (rec - (num_cross*pRec))**2/(num_cross*pRec)\n",
    "        chi_square.append(temp)\n",
    "        \n",
    "    total_chi_square.append(np.sum(chi_square))"
   ]
  },
  {
   "cell_type": "code",
   "execution_count": 16,
   "metadata": {
    "ExecuteTime": {
     "end_time": "2021-02-23T18:29:53.635566Z",
     "start_time": "2021-02-23T18:29:53.617614Z"
    }
   },
   "outputs": [],
   "source": [
    "CDF_totalchi = get_cdfs(total_chi_square)"
   ]
  },
  {
   "cell_type": "code",
   "execution_count": 17,
   "metadata": {
    "ExecuteTime": {
     "end_time": "2021-02-23T18:29:54.176805Z",
     "start_time": "2021-02-23T18:29:53.643706Z"
    }
   },
   "outputs": [
    {
     "data": {
      "image/png": "[encoded data removed]",
      "text/plain": [
       "<Figure size 720x360 with 2 Axes>"
      ]
     },
     "metadata": {
      "needs_background": "light"
     },
     "output_type": "display_data"
    }
   ],
   "source": [
    "%matplotlib inline\n",
    "\n",
    "fig1,[ax4,ax5] = plt.subplots(1,2,figsize=(10,5))\n",
    "sns.histplot(total_chi_square,stat='density',ax=ax4)\n",
    "ax4.set_ylabel('Frequency')\n",
    "ax4.set_xlabel('Total $\\chi^2$ values')\n",
    "ax4.vlines(total_mendel_chisquare,0,ax4.get_ylim()[-1],color='r',label=f\"Mendel's total $\\chi^2$ value: {total_mendel_chisquare:.3f}\")\n",
    "ax4.grid(linestyle=':')\n",
    "ax4.legend(loc='best')\n",
    "\n",
    "ax5.step(CDF_totalchi[0],CDF_totalchi[1])\n",
    "ax5.set_xlabel('Total $\\chi^2$ values')\n",
    "ax5.set_ylabel('$P(X<x)$')\n",
    "ax5.hlines(CDF_totalchi[1][CDF_totalchi[0] <= total_mendel_chisquare][-1],min(CDF_totalchi[0]),max(CDF_totalchi[0]),color = 'C2',label=f\"Mendel's p-value for total $\\chi^2$: {CDF_totalchi[1][CDF_totalchi[0] <= total_mendel_chisquare][-1]:.4f}\")\n",
    "ax5.vlines(total_mendel_chisquare,0,ax5.get_ylim()[-1],color='C6',label=f\"Mendel's total $\\chi^2$ value: {total_mendel_chisquare:.4f}\")\n",
    "ax5.grid(linestyle=':')\n",
    "ax5.legend(loc='best')\n",
    "plt.show()"
   ]
  },
  {
   "cell_type": "code",
   "execution_count": 18,
   "metadata": {
    "ExecuteTime": {
     "end_time": "2021-02-23T18:29:54.197924Z",
     "start_time": "2021-02-23T18:29:54.183759Z"
    }
   },
   "outputs": [
    {
     "name": "stdout",
     "output_type": "stream",
     "text": [
      "Likelihood of observing a total Chi-square value greater than Mendel's total Chi-square: 0.9997\n",
      "AND less than or equal to Mendel's total Chi-square: 0.0003\n"
     ]
    }
   ],
   "source": [
    "print(f\"Likelihood of observing a total Chi-square value greater than Mendel's total Chi-square: {1-CDF_totalchi[1][CDF_totalchi[0] <= total_mendel_chisquare][-1]:.4f}\\nAND less than or equal to Mendel's total Chi-square: {CDF_totalchi[1][CDF_totalchi[0] <= total_mendel_chisquare][-1]:.4f}\")"
   ]
  },
  {
   "cell_type": "markdown",
   "metadata": {},
   "source": [
    "This result poses a challenge. The simulation used the expected phenotypic ratios for each experiment (from Mendel's own proposed laws explaining his results) to simulate each of them once. Then, the $\\chi^2$ values (quantifying deviations from expected ratio) of each simulated experiment were added up. This process was repeated 10k times, yielding a distribution of total $\\chi^2$ values (total deviations from expectation from all experiments). This distribution shows that under the assumed random process at play, and expected probability/ratio parameters, the distribution of total $\\chi^2$ is centered at around $80-85$. It means that the expected total deviation from expected ratios is centered around $80-85$ (very close to the degrees of freedom). This distribution would then be the null distribution, as we would use it to test if Mendel's total $\\chi^2$ value is likely to happen under this distribution.  \n",
    "  \n",
    "  But if I were to use even the stricter significance cutoff of $p<1\\%$, I could reject the hypothesis that Mendel's total $\\chi^2$ value could be sampled from the simulated total $\\chi^2$ distribution ($p=0.07\\%$, after first run of the code).  \n",
    "    \n",
    "   The challenging bit is that, if all of Mendel's experiments were indeed a random sampling of binomial processes, the distribution of the total $\\chi^2$ should easily contain Mendel's total $\\chi^2$. While it actually does contain it, hypothesis-testing suggests it is unlikely to come from that distribution ($p=0.07\\%$, after first run of the code). Put it another way, Mendel's total $\\chi^2$ is very far away to the left from what would be expected if the random process he sampled indeed follows his laws (i.e. the overall experiments deviate way less than expected for the assumed process). \n",
    "     \n",
    "   Given how Mendel's laws, while not completely accurate, have been reasonbly shown to be correct, Fisher's interpretation of data cooking seems plausible under this scenario."
   ]
  },
  {
   "cell_type": "markdown",
   "metadata": {},
   "source": [
    "### 1.e) Consider the 69 experiments that do not involve an expected ratio of 0.6291:0.3709. Simulate each experiment 100 times using the expected ratios and calculate the Edwards $\\chi$ values for each simulation (so that you have 6900 $\\chi$ values). Plot their distribution and plot the distribution of $\\chi$ values from the data."
   ]
  },
  {
   "cell_type": "code",
   "execution_count": 19,
   "metadata": {
    "ExecuteTime": {
     "end_time": "2021-02-23T18:29:54.232092Z",
     "start_time": "2021-02-23T18:29:54.205501Z"
    }
   },
   "outputs": [],
   "source": [
    "Edwards_clean = Edwards[Edwards['Exp2']!=0.3709]\n",
    "chi_clean_mendel = Edwards_clean['$\\chi$']\n",
    "\n",
    "N_sim2 = 100\n",
    "i = 0\n",
    "chi_clean = []"
   ]
  },
  {
   "cell_type": "code",
   "execution_count": 20,
   "metadata": {
    "ExecuteTime": {
     "end_time": "2021-02-23T18:29:55.646828Z",
     "start_time": "2021-02-23T18:29:54.239010Z"
    }
   },
   "outputs": [],
   "source": [
    "for i in range(N_sim2):\n",
    "    \n",
    "    for j in Edwards_clean.index:\n",
    "        pDom = Edwards_clean.loc[j,'prob1']\n",
    "        pRec = Edwards_clean.loc[j,'prob2']\n",
    "        num_cross = Edwards_clean.loc[j,'Total']\n",
    "        dom = np.sum(np.random.rand(num_cross) <= pDom)\n",
    "        rec = num_cross - dom\n",
    "        chi_clean.append((dom - (num_cross*pDom))/math.sqrt(num_cross*pDom*pRec))"
   ]
  },
  {
   "cell_type": "code",
   "execution_count": 21,
   "metadata": {
    "ExecuteTime": {
     "end_time": "2021-02-23T18:29:56.198809Z",
     "start_time": "2021-02-23T18:29:55.655799Z"
    }
   },
   "outputs": [
    {
     "data": {
      "image/png": "[encoded data removed]",
      "text/plain": [
       "<Figure size 720x360 with 2 Axes>"
      ]
     },
     "metadata": {
      "needs_background": "light"
     },
     "output_type": "display_data"
    }
   ],
   "source": [
    "fig2,[ax6,ax7] = plt.subplots(1,2,figsize=(10,5))\n",
    "sns.histplot(chi_clean,stat='density',ax=ax6)\n",
    "ax6.set_ylabel('Frequency')\n",
    "ax6.set_xlabel('$\\chi$ values')\n",
    "ax6.set_title('Distribution of simulated $\\chi$ values')\n",
    "ax6.grid(linestyle=':')\n",
    "\n",
    "sns.histplot(chi_clean_mendel,stat='density',ax=ax7,bins=np.arange(ax6.get_xlim()[0],ax6.get_xlim()[-1],0.25),color='r')\n",
    "ax7.set_xlabel('$\\chi$ values')\n",
    "ax7.set_ylabel('Frequency')\n",
    "ax7.set_title(\"Distribution of $\\chi$ values from Mendel's data\")\n",
    "ax7.grid(linestyle=':')\n",
    "plt.show()"
   ]
  },
  {
   "cell_type": "markdown",
   "metadata": {},
   "source": [
    "Decided to make sure the x-axis for both plots are the same... We seem to have cut out tails... Incriminating evidence..."
   ]
  },
  {
   "cell_type": "markdown",
   "metadata": {},
   "source": [
    "### 1.f) Plot the empirical cumulative density function for the simulated and measured $\\chi$ values. Discuss how the differences between these curves suggest that Mendel curated his data to conform to his expectations. This figure should be similar to Figures 1 and 2 in Edwards’ paper."
   ]
  },
  {
   "cell_type": "code",
   "execution_count": 22,
   "metadata": {
    "ExecuteTime": {
     "end_time": "2021-02-23T18:29:56.225457Z",
     "start_time": "2021-02-23T18:29:56.212532Z"
    }
   },
   "outputs": [],
   "source": [
    "CDF_chicleanmendel = get_cdfs(chi_clean_mendel)\n",
    "CDF_chiclean = get_cdfs(chi_clean)"
   ]
  },
  {
   "cell_type": "code",
   "execution_count": 23,
   "metadata": {
    "ExecuteTime": {
     "end_time": "2021-02-23T18:29:56.336638Z",
     "start_time": "2021-02-23T18:29:56.229353Z"
    }
   },
   "outputs": [
    {
     "data": {
      "image/png": "[encoded data removed]",
      "text/plain": [
       "<Figure size 432x288 with 1 Axes>"
      ]
     },
     "metadata": {
      "needs_background": "light"
     },
     "output_type": "display_data"
    }
   ],
   "source": [
    "fig3,ax8 = plt.subplots(1,1)\n",
    "ax8.step(CDF_chiclean[0],CDF_chiclean[1],label='Simulated')\n",
    "ax8.step(CDF_chicleanmendel[0],CDF_chicleanmendel[1],label=\"Mendel's\")\n",
    "ax8.set_xlabel('$\\chi$ values')\n",
    "ax8.set_ylabel('$P(X<x)$')\n",
    "ax8.set_title(\"CDF of $\\chi$ values (Simulated and Mendel's)\")\n",
    "ax8.grid(linestyle=':')\n",
    "ax8.legend(loc='best')\n",
    "plt.show()"
   ]
  },
  {
   "cell_type": "markdown",
   "metadata": {},
   "source": [
    "The fact the tails are cut out is quite strong evidence that there was systematic cooking of the data. Deviations beyond what he would perceive as a \"threshold\" simply don't appear in Mendel's data. Importantly, in doing the simulations assuming his laws are correct, I am getting a CDF with tails, meaning that a natural process following his laws should yield some of these rare instances of extreme values. Perhaps he was blind to the random nature of what he was studying, or too quick to judge an experimental run as a bad one just because of the result (assuming contamination without checking, for example)."
   ]
  },
  {
   "cell_type": "markdown",
   "metadata": {},
   "source": [
    "### 1.g) Using the empirical CDFs from the previous problem, assess the likelihood that the simulated and data distributions are statistically equivalent using the K.S. statistic, the A.D. statistic, and the R.O.C. method."
   ]
  },
  {
   "cell_type": "markdown",
   "metadata": {},
   "source": [
    "Kolmogorov-Smirnov (K.S.) test"
   ]
  },
  {
   "cell_type": "code",
   "execution_count": 24,
   "metadata": {
    "ExecuteTime": {
     "end_time": "2021-02-23T18:29:56.576559Z",
     "start_time": "2021-02-23T18:29:56.342628Z"
    }
   },
   "outputs": [
    {
     "name": "stdout",
     "output_type": "stream",
     "text": [
      "KS stat: 0.1383, p-value: 0.1337\n"
     ]
    }
   ],
   "source": [
    "KS,p_valKS = stats.ks_2samp(chi_clean,chi_clean_mendel)\n",
    "print(f\"KS stat: {KS:.4f}, p-value: {p_valKS:.4f}\")"
   ]
  },
  {
   "cell_type": "markdown",
   "metadata": {},
   "source": [
    "Anderson-Darling (A.D.) test"
   ]
  },
  {
   "cell_type": "code",
   "execution_count": 25,
   "metadata": {
    "ExecuteTime": {
     "end_time": "2021-02-23T18:29:56.693544Z",
     "start_time": "2021-02-23T18:29:56.593587Z"
    }
   },
   "outputs": [
    {
     "name": "stdout",
     "output_type": "stream",
     "text": [
      "AD stat: 1.5417, p-value: 0.0751\n",
      "Critical values for AD stat at 25%, 10%, 5%, 2.5%, 1%, 0.5%, 0.1%:\n",
      "[0.325 1.226 1.961 2.718 3.752 4.592 6.546]\n"
     ]
    }
   ],
   "source": [
    "AD,critvalue_AD,p_valAD = stats.anderson_ksamp([chi_clean,chi_clean_mendel])\n",
    "print(f\"AD stat: {AD:.4f}, p-value: {p_valAD:.4f}\\nCritical values for AD stat at 25%, 10%, 5%, 2.5%, 1%, 0.5%, 0.1%:\")\n",
    "print(critvalue_AD)"
   ]
  },
  {
   "cell_type": "markdown",
   "metadata": {},
   "source": [
    "Receiver Operator Characteristic (R.O.C)"
   ]
  },
  {
   "cell_type": "code",
   "execution_count": 26,
   "metadata": {
    "ExecuteTime": {
     "end_time": "2021-02-23T18:29:56.765449Z",
     "start_time": "2021-02-23T18:29:56.716640Z"
    }
   },
   "outputs": [],
   "source": [
    "def common_grid(eCDFl,eCDFr):\n",
    "    df_l = pd.DataFrame({'Values': list(eCDFl[0]), 'Percentiles': list(eCDFl[1])})\n",
    "    df_r = pd.DataFrame({'Values': list(eCDFr[0]), 'Percentiles': list(eCDFr[1])})\n",
    "    joined = pd.merge_ordered(df_l,df_r,on='Values',how='outer')\n",
    "    left = list(joined['Percentiles_x'])\n",
    "    right = list(joined['Percentiles_y'])\n",
    "\n",
    "    for i in range(len(left)):\n",
    "        if math.isnan(left[i]) and i == 0:\n",
    "            left[i] = 0.0\n",
    "        elif math.isnan(right[i]) and i == 0:\n",
    "            right[i] = 0.0\n",
    "        elif math.isnan(left[i]):\n",
    "            left[i] = left[i-1]\n",
    "        elif math.isnan(right[i]):\n",
    "            right[i] = right[i-1]\n",
    "            \n",
    "    joined['left'] = left\n",
    "    joined['right'] = right\n",
    "    \n",
    "    return joined[['Values','left','right']]"
   ]
  },
  {
   "cell_type": "code",
   "execution_count": 27,
   "metadata": {
    "ExecuteTime": {
     "end_time": "2021-02-23T18:29:56.872576Z",
     "start_time": "2021-02-23T18:29:56.778496Z"
    }
   },
   "outputs": [
    {
     "data": {
      "text/html": [
       "<div>\n",
       "<style scoped>\n",
       "    .dataframe tbody tr th:only-of-type {\n",
       "        vertical-align: middle;\n",
       "    }\n",
       "\n",
       "    .dataframe tbody tr th {\n",
       "        vertical-align: top;\n",
       "    }\n",
       "\n",
       "    .dataframe thead th {\n",
       "        text-align: right;\n",
       "    }\n",
       "</style>\n",
       "<table border=\"1\" class=\"dataframe\">\n",
       "  <thead>\n",
       "    <tr style=\"text-align: right;\">\n",
       "      <th></th>\n",
       "      <th>Values</th>\n",
       "      <th>left</th>\n",
       "      <th>right</th>\n",
       "    </tr>\n",
       "  </thead>\n",
       "  <tbody>\n",
       "    <tr>\n",
       "      <th>0</th>\n",
       "      <td>-3.790451</td>\n",
       "      <td>0.0</td>\n",
       "      <td>0.000000</td>\n",
       "    </tr>\n",
       "    <tr>\n",
       "      <th>1</th>\n",
       "      <td>-3.587295</td>\n",
       "      <td>0.0</td>\n",
       "      <td>0.000145</td>\n",
       "    </tr>\n",
       "    <tr>\n",
       "      <th>2</th>\n",
       "      <td>-3.329974</td>\n",
       "      <td>0.0</td>\n",
       "      <td>0.000290</td>\n",
       "    </tr>\n",
       "    <tr>\n",
       "      <th>3</th>\n",
       "      <td>-3.290679</td>\n",
       "      <td>0.0</td>\n",
       "      <td>0.000435</td>\n",
       "    </tr>\n",
       "    <tr>\n",
       "      <th>4</th>\n",
       "      <td>-3.224157</td>\n",
       "      <td>0.0</td>\n",
       "      <td>0.000580</td>\n",
       "    </tr>\n",
       "    <tr>\n",
       "      <th>...</th>\n",
       "      <td>...</td>\n",
       "      <td>...</td>\n",
       "      <td>...</td>\n",
       "    </tr>\n",
       "    <tr>\n",
       "      <th>6912</th>\n",
       "      <td>2.812720</td>\n",
       "      <td>1.0</td>\n",
       "      <td>0.999420</td>\n",
       "    </tr>\n",
       "    <tr>\n",
       "      <th>6913</th>\n",
       "      <td>2.860388</td>\n",
       "      <td>1.0</td>\n",
       "      <td>0.999565</td>\n",
       "    </tr>\n",
       "    <tr>\n",
       "      <th>6914</th>\n",
       "      <td>2.894704</td>\n",
       "      <td>1.0</td>\n",
       "      <td>0.999710</td>\n",
       "    </tr>\n",
       "    <tr>\n",
       "      <th>6915</th>\n",
       "      <td>3.051080</td>\n",
       "      <td>1.0</td>\n",
       "      <td>0.999855</td>\n",
       "    </tr>\n",
       "    <tr>\n",
       "      <th>6916</th>\n",
       "      <td>3.507467</td>\n",
       "      <td>1.0</td>\n",
       "      <td>1.000000</td>\n",
       "    </tr>\n",
       "  </tbody>\n",
       "</table>\n",
       "<p>6917 rows × 3 columns</p>\n",
       "</div>"
      ],
      "text/plain": [
       "        Values  left     right\n",
       "0    -3.790451   0.0  0.000000\n",
       "1    -3.587295   0.0  0.000145\n",
       "2    -3.329974   0.0  0.000290\n",
       "3    -3.290679   0.0  0.000435\n",
       "4    -3.224157   0.0  0.000580\n",
       "...        ...   ...       ...\n",
       "6912  2.812720   1.0  0.999420\n",
       "6913  2.860388   1.0  0.999565\n",
       "6914  2.894704   1.0  0.999710\n",
       "6915  3.051080   1.0  0.999855\n",
       "6916  3.507467   1.0  1.000000\n",
       "\n",
       "[6917 rows x 3 columns]"
      ]
     },
     "execution_count": 27,
     "metadata": {},
     "output_type": "execute_result"
    }
   ],
   "source": [
    "straightened = common_grid(CDF_chicleanmendel,CDF_chiclean)\n",
    "straightened"
   ]
  },
  {
   "cell_type": "code",
   "execution_count": 28,
   "metadata": {
    "ExecuteTime": {
     "end_time": "2021-02-23T18:29:57.030978Z",
     "start_time": "2021-02-23T18:29:56.878514Z"
    }
   },
   "outputs": [
    {
     "data": {
      "image/png": "[encoded data removed]",
      "text/plain": [
       "<Figure size 432x288 with 1 Axes>"
      ]
     },
     "metadata": {
      "needs_background": "light"
     },
     "output_type": "display_data"
    }
   ],
   "source": [
    "fig4,ax9 = plt.subplots(1,1)\n",
    "ax9.plot(straightened['right'],straightened['left'])\n",
    "ax9.plot([0,1],[0,1],'--')\n",
    "ax9.fill_between(straightened['right'],straightened['left'],color='C1', alpha=0.25)\n",
    "ax9.text(0.5, 0.25,f\"Area Under the Curve: {np.trapz(straightened['left'],x=straightened['right']):.3f}\")\n",
    "ax9.set_xlabel('Simulated CDF')\n",
    "ax9.set_ylabel(\"Mendel's CDF\")\n",
    "ax9.set_title(\"ROC curve\")\n",
    "ax9.grid(linestyle=':')\n",
    "plt.show()"
   ]
  },
  {
   "cell_type": "markdown",
   "metadata": {},
   "source": [
    "The three measures point to an inability to separate out the two distributions, making it seem they are similar. However, it is graphically clear that the main difference between the two distributions lies in the tails.  \n",
    "As such, it seems the ROC captures this by how the curve looks at the lower left, and upper right (below, and then above the y=x line).  \n",
    "It also looks like the AD test detected that difference given its slightly more confident measure of dissimularity."
   ]
  },
  {
   "cell_type": "markdown",
   "metadata": {},
   "source": [
    "### 1.h) One of the most notable points in Mendel’s original paper is that at one point an experiment yielded 60 heterozygous plants for pod color and 40 were homozygous green, when an expected ratio was 2:1. This departure from expectation was so large that Mendel repeated this experiment recording 65:35 in the subsequent trial. This was the only experiment that Mendel felt compelled to repeat (and report), but should he have been concerned? Use simulation (and theory if you want), to estimate how often one would expect to see such a deviation from expectation. Let’s assume Mendel was a more modern scientist and was willing to accept any data that had at least a 5% likelihood of being generated by the null hypothesis, what is the maximum deviation Mendel should allow before repeating his experiment?"
   ]
  },
  {
   "cell_type": "code",
   "execution_count": 29,
   "metadata": {
    "ExecuteTime": {
     "end_time": "2021-02-23T18:29:58.779612Z",
     "start_time": "2021-02-23T18:29:57.039080Z"
    }
   },
   "outputs": [
    {
     "ename": "TypeError",
     "evalue": "'numpy.int32' object is not iterable",
     "output_type": "error",
     "traceback": [
      "\u001b[1;31m---------------------------------------------------------------------------\u001b[0m",
      "\u001b[1;31mTypeError\u001b[0m                                 Traceback (most recent call last)",
      "\u001b[1;32m<ipython-input-29-4b81af4b65dd>\u001b[0m in \u001b[0;36m<module>\u001b[1;34m\u001b[0m\n\u001b[1;32m----> 1\u001b[1;33m \u001b[0mmin\u001b[0m\u001b[1;33m(\u001b[0m\u001b[0mdom\u001b[0m\u001b[1;33m)\u001b[0m\u001b[1;33m\u001b[0m\u001b[1;33m\u001b[0m\u001b[0m\n\u001b[0m",
      "\u001b[1;31mTypeError\u001b[0m: 'numpy.int32' object is not iterable"
     ]
    }
   ],
   "source": [
    "min(dom)"
   ]
  },
  {
   "cell_type": "code",
   "execution_count": null,
   "metadata": {
    "ExecuteTime": {
     "end_time": "2021-02-23T18:29:58.789633Z",
     "start_time": "2021-02-23T18:17:48.354Z"
    }
   },
   "outputs": [],
   "source": [
    "pDom = 2/3\n",
    "dom = []\n",
    "for i in range(10000):\n",
    "    dom.append(np.sum(np.random.rand(N_sim2) <= pDom))    \n",
    "\n",
    "prob_60_or_less = (dom.count(60)+dom.count(59)+dom.count(58)+dom.count(57)+dom.count(56)+dom.count(55)+dom.count(54)+dom.count(53)+dom.count(52)+dom.count(51)+dom.count(50)+dom.count(49))/len(dom)\n",
    "print(f\"From simulation, I would expect to see 60 heterozygous plants {prob_60_or_less*100:.2f}% of the time.\\n\")\n",
    "\n",
    "exp = round(100*(2/3))\n",
    "devs = np.arange(-20,20,1)\n",
    "deviation = []\n",
    "for dev in devs:\n",
    "    prob_hold = 0\n",
    "    for i in range(len(devs)):\n",
    "        prob_hold += dom.count(exp+dev-i)\n",
    "        \n",
    "    p = prob_hold/len(dom)\n",
    "    if p >= 0.025 and p <= 0.975:\n",
    "        deviation.append(dev)\n",
    "        print(f\"p({exp+dev})={p*100:.2f}%\")\n",
    "\n",
    "        \n",
    "print(f\"\\nMaximum deviation on the negative side: {deviation[0]}\\nMaximum deviation on the positive side: {deviation[-1]}\")"
   ]
  },
  {
   "cell_type": "markdown",
   "metadata": {},
   "source": [
    "## Problem 2: Chemotaxis Poisson Rate Parameters"
   ]
  },
  {
   "cell_type": "markdown",
   "metadata": {},
   "source": [
    "### 2.a) Use bootstrapping of the first 100 intervals (use either $\\tau^+$ or $\\tau^-$) and the subsequent 100 intervals to make distributions of $\\hat{\\lambda} = \\frac{1}{\\bar{\\tau}}$. Show these distributions with a relevant figure and annotate any relevant features."
   ]
  },
  {
   "cell_type": "code",
   "execution_count": null,
   "metadata": {
    "ExecuteTime": {
     "end_time": "2021-02-23T18:29:58.794692Z",
     "start_time": "2021-02-23T18:17:48.361Z"
    }
   },
   "outputs": [],
   "source": [
    "with open('omega.txt','r') as myFile:\n",
    "    data = myFile.readlines()\n",
    "\n",
    "clean_data = []\n",
    "for item in data:\n",
    "    item.strip(\"\\n\")\n",
    "    clean_data.append(float(item))\n",
    "    \n",
    "positive_time_lengths = []\n",
    "negative_time_lengths = []\n",
    "count_pos = 0\n",
    "count_neg = 0\n",
    "\n",
    "# Setting the positive state as False since data starts in the negative angular velocity\n",
    "positive = False\n",
    "\n",
    "for item in clean_data:\n",
    "    if positive:\n",
    "        if item >= 0:        # Switching to using zero as the problem is explicit in asking for velocities\n",
    "            count_pos += 1\n",
    "        else:\n",
    "            positive_time_lengths.append(count_pos/60)   # Asking for \"Time intervals\"\n",
    "            count_pos = 0\n",
    "            positive = False\n",
    "            count_neg += 1\n",
    "            \n",
    "    if not positive:\n",
    "        if item < 0:\n",
    "            count_neg += 1\n",
    "        else:\n",
    "            negative_time_lengths.append(count_neg/60)\n",
    "            count_neg = 0\n",
    "            positive = True\n",
    "            count_pos += 1"
   ]
  },
  {
   "cell_type": "code",
   "execution_count": null,
   "metadata": {
    "ExecuteTime": {
     "end_time": "2021-02-23T18:29:58.799675Z",
     "start_time": "2021-02-23T18:17:48.366Z"
    }
   },
   "outputs": [],
   "source": [
    "first_100 = negative_time_lengths[0:99]\n",
    "second_100 = negative_time_lengths[100:199]\n",
    "\n",
    "N_boot = 50000\n",
    "boot_first_100 = np.random.choice(first_100,replace=True,size=(N_boot,100))\n",
    "boot_second_100 = np.random.choice(second_100,replace=True,size=(N_boot,100))\n",
    "\n",
    "lambda_first_100 = 1/np.mean(boot_first_100, axis=1)\n",
    "lambda_second_100 = 1/np.mean(boot_second_100, axis=1)"
   ]
  },
  {
   "cell_type": "code",
   "execution_count": null,
   "metadata": {
    "ExecuteTime": {
     "end_time": "2021-02-23T18:29:58.802955Z",
     "start_time": "2021-02-23T18:17:48.373Z"
    }
   },
   "outputs": [],
   "source": [
    "fig5,ax10 = plt.subplots(1,1)\n",
    "ax10 = sns.histplot(lambda_first_100,stat='density',alpha=0.35,label='0-100')\n",
    "ax10 = sns.histplot(lambda_second_100,stat='density',color='r',alpha=0.35,label='100-200')\n",
    "ax10.set_xlabel(\"$\\lambda$\")\n",
    "ax10.set_ylabel(\"Frequency\")\n",
    "ax10.vlines(np.median(lambda_first_100),0,ax10.get_ylim()[-1],label=f\"First 100 median: {np.median(lambda_first_100):.3f}\")\n",
    "ax10.vlines(np.median(lambda_second_100),0,ax10.get_ylim()[-1],color='r',label=f\"Second 100 median: {np.median(lambda_second_100):.3f}\")\n",
    "ax10.legend(loc='best')\n",
    "ax10.grid(linestyle=':')\n",
    "plt.show()"
   ]
  },
  {
   "cell_type": "markdown",
   "metadata": {},
   "source": [
    "### 2.b) Using these bootstrapped distributions, calculate $P(\\lambda_{0-100} ≤ \\lambda_{100−200})$, the K-S and A-D statistics, and an ROC curve to test the hypothesis that the rate changes over the course of the experiment. Assess the likelihood that the first 100 intervals have a statistically different rate parameter from the second 100 intervals."
   ]
  },
  {
   "cell_type": "markdown",
   "metadata": {},
   "source": [
    "$P(\\lambda_{0-100} ≤ \\lambda_{100−200})$"
   ]
  },
  {
   "cell_type": "code",
   "execution_count": null,
   "metadata": {
    "ExecuteTime": {
     "end_time": "2021-02-23T18:29:58.807866Z",
     "start_time": "2021-02-23T18:17:48.382Z"
    }
   },
   "outputs": [],
   "source": [
    "print(f\"Fraction of times the second-100 lambdas are greater than the first-100 lambdas: {np.sum(lambda_first_100 <= lambda_second_100)/N_boot}\")"
   ]
  },
  {
   "cell_type": "markdown",
   "metadata": {},
   "source": [
    "Kolmogorov-Smirnov (K.S.) test"
   ]
  },
  {
   "cell_type": "code",
   "execution_count": null,
   "metadata": {
    "ExecuteTime": {
     "end_time": "2021-02-23T18:29:58.812522Z",
     "start_time": "2021-02-23T18:17:48.392Z"
    }
   },
   "outputs": [],
   "source": [
    "KS2,p_valKS2 = stats.ks_2samp(lambda_first_100,lambda_second_100)\n",
    "print(f\"KS stat: {KS2:.4f}, p-value: {p_valKS2}\")"
   ]
  },
  {
   "cell_type": "markdown",
   "metadata": {},
   "source": [
    "Anderson-Darling (A.D.) test"
   ]
  },
  {
   "cell_type": "code",
   "execution_count": null,
   "metadata": {
    "ExecuteTime": {
     "end_time": "2021-02-23T18:29:58.817507Z",
     "start_time": "2021-02-23T18:17:48.399Z"
    }
   },
   "outputs": [],
   "source": [
    "AD2,critvalue_AD2,p_valAD2 = stats.anderson_ksamp([lambda_first_100,lambda_second_100])\n",
    "print(f\"AD stat: {AD2}, p-value: {p_valAD2},\\nCritical values for AD stat at 25%, 10%, 5%, 2.5%, 1%, 0.5%, 0.1%:\")\n",
    "print(critvalue_AD2)"
   ]
  },
  {
   "cell_type": "markdown",
   "metadata": {},
   "source": [
    "Receiver Operator Characteristic (R.O.C)"
   ]
  },
  {
   "cell_type": "code",
   "execution_count": null,
   "metadata": {
    "ExecuteTime": {
     "end_time": "2021-02-23T18:29:58.820539Z",
     "start_time": "2021-02-23T18:17:48.405Z"
    }
   },
   "outputs": [],
   "source": [
    "CDF_lambdafirst = get_cdfs(lambda_first_100)\n",
    "CDF_lambdasecond = get_cdfs(lambda_second_100)\n",
    "straightened2 = common_grid(CDF_lambdafirst,CDF_lambdasecond)"
   ]
  },
  {
   "cell_type": "code",
   "execution_count": null,
   "metadata": {
    "ExecuteTime": {
     "end_time": "2021-02-23T18:29:58.828524Z",
     "start_time": "2021-02-23T18:17:48.412Z"
    }
   },
   "outputs": [],
   "source": [
    "fig6,ax11 = plt.subplots(1,1)\n",
    "ax11.plot(straightened2['left'],straightened2['right'])\n",
    "ax11.plot([0,1],[0,1],'--')\n",
    "ax11.fill_between(straightened2['left'],straightened2['right'],color='C1', alpha=0.25)\n",
    "ax11.text(0.5, 0.25,f\"Area Under the Curve: {np.trapz(straightened2['right'],x=straightened2['left']):.3f}\")\n",
    "ax11.set_xlabel('$\\lambda_{0-100}$ CDF')\n",
    "ax11.set_ylabel('$\\lambda_{100-200}$ CDF')\n",
    "ax11.set_title(\"ROC curve\")\n",
    "ax11.grid(linestyle=':')\n",
    "plt.show()"
   ]
  },
  {
   "cell_type": "markdown",
   "metadata": {},
   "source": [
    "The three measures point to a statistically significant difference in the distributions of rate parameters."
   ]
  },
  {
   "cell_type": "markdown",
   "metadata": {},
   "source": [
    "### 2.c) For any of the metrics in the previous problem, generate a null distribution empirically to test the likelihood that the first 100 intervals have a statistically different rate parameter from the second 100 intervals. (You cannot simply report the p-value from a previously coded implementation of any of these metrics.) Illustrate this result with a relevant figure and annotate any relevant features."
   ]
  },
  {
   "cell_type": "code",
   "execution_count": null,
   "metadata": {
    "ExecuteTime": {
     "end_time": "2021-02-23T18:29:58.833348Z",
     "start_time": "2021-02-23T18:17:48.419Z"
    }
   },
   "outputs": [],
   "source": [
    "KS_list = []\n",
    "\n",
    "for i in range(10000):\n",
    "    N_boot2 = 10000\n",
    "    second100_sample1 = np.random.choice(second_100,replace=True,size=(N_boot2,100))\n",
    "    second100_sample2 = np.random.choice(second_100,replace=True,size=(N_boot2,100))\n",
    "    lambda1 = 1/np.mean(second100_sample1, axis=1)\n",
    "    lambda2 = 1/np.mean(second100_sample2, axis=1)\n",
    "    stat,pvalue = stats.ks_2samp(lambda1,lambda2)\n",
    "    KS_list.append(stat)"
   ]
  },
  {
   "cell_type": "code",
   "execution_count": null,
   "metadata": {
    "ExecuteTime": {
     "end_time": "2021-02-23T18:29:58.837341Z",
     "start_time": "2021-02-23T18:17:48.426Z"
    }
   },
   "outputs": [],
   "source": [
    "fig7,ax12 = plt.subplots(1,1)\n",
    "ax12 = sns.histplot(KS_list,stat='density')\n",
    "ax12.vlines(KS2,0,ax12.get_ylim()[-1],color='r',label=f\"KS stat, 0-100/100-200: {KS2:.3f}\")\n",
    "ax12.set_xlabel('KS statistic')\n",
    "ax12.set_ylabel('Frequency')\n",
    "ax12.set_title('Null distribution of KS statistic')\n",
    "ax12.grid(linestyle=':')\n",
    "ax12.legend(loc='best')\n",
    "plt.show()"
   ]
  },
  {
   "cell_type": "markdown",
   "metadata": {},
   "source": [
    "There's no getting lost here, or need to estimate a p-value. The KS statistic is far to the right from the null distribution, making it borderline impossible to observe that KS statistic if the null hypothesis were true."
   ]
  },
  {
   "cell_type": "markdown",
   "metadata": {},
   "source": [
    "### 2.d) Break the list of time intervals (either the positive or negative list) into ∼20 equally sized sets of consecutive intervals (the intervals should be sequential in time). Make an estimate of the rate parameter, $\\lambda$, in each set of intervals. Use OLS linear regression to fit a line to these estimates as a function of the time elapsed in the experiment (the beginning of the data is t = 0 and the end is t ≈ 5983 seconds). Assess the likelihood that there is a linear relationship between the rate parameter and time by simulating appropriate null distributions for the regression coefficients and comparing your observations to the null. Illustrate this relationship with an appropriate figure and discuss your results."
   ]
  },
  {
   "cell_type": "code",
   "execution_count": null,
   "metadata": {
    "ExecuteTime": {
     "end_time": "2021-02-23T18:29:58.843601Z",
     "start_time": "2021-02-23T18:17:48.437Z"
    }
   },
   "outputs": [],
   "source": [
    "pre = np.linspace(0,len(negative_time_lengths),num=21)\n",
    "time = np.linspace(0,5983,num=20)\n",
    "lambda_list = []\n",
    "CI_upper = []\n",
    "CI_lower = []\n",
    "for i in range(len(pre)-1):\n",
    "    temp = negative_time_lengths[int(pre[i]):int(pre[i+1])]\n",
    "    boot_temp = np.random.choice(temp,replace=True,size=(N_boot,len(temp)))\n",
    "    boot_lambdas = 1/np.mean(boot_temp, axis=1)\n",
    "    CI = np.percentile(boot_lambdas, [100*0.05/2, 100*(1-0.05/2)])\n",
    "    CI_upper.append(CI[-1]-(1/np.mean(temp)))\n",
    "    CI_lower.append((1/np.mean(temp)) - CI[0])\n",
    "    lambda_list.append(1/np.mean(temp))"
   ]
  },
  {
   "cell_type": "code",
   "execution_count": null,
   "metadata": {
    "ExecuteTime": {
     "end_time": "2021-02-23T18:29:58.847592Z",
     "start_time": "2021-02-23T18:17:48.444Z"
    }
   },
   "outputs": [],
   "source": [
    "slope,intercept = np.polyfit(time,lambda_list,deg=1)"
   ]
  },
  {
   "cell_type": "code",
   "execution_count": null,
   "metadata": {
    "ExecuteTime": {
     "end_time": "2021-02-23T18:29:58.852577Z",
     "start_time": "2021-02-23T18:17:48.449Z"
    }
   },
   "outputs": [],
   "source": [
    "fig8,ax13 = plt.subplots(1,1)\n",
    "ax13 = sns.regplot(x=time,y=lambda_list,n_boot=N_boot2,robust=True,label=\"Fitted line with 95% CI band\")\n",
    "ax13.errorbar(time,lambda_list,yerr=(CI_lower,CI_upper),marker='o',ls='',capsize=2,label='$\\lambda$ with 95% confidence interval')\n",
    "ax13.set_xlabel('Time (sec)')\n",
    "ax13.set_ylabel('Negative $\\lambda$ value')\n",
    "ax13.set_title('Rate parameter vs. time elapsed')\n",
    "ax13.grid(linestyle=':')\n",
    "ax13.legend(loc='best')\n",
    "plt.show()"
   ]
  },
  {
   "cell_type": "code",
   "execution_count": null,
   "metadata": {
    "ExecuteTime": {
     "end_time": "2021-02-23T18:29:58.856640Z",
     "start_time": "2021-02-23T18:17:48.454Z"
    }
   },
   "outputs": [],
   "source": [
    "slopes = []\n",
    "intercepts = []\n",
    "\n",
    "res_time = np.random.choice(time,size=(N_boot,len(time)),replace=True)\n",
    "res_lambdas = np.random.choice(lambda_list,size=(N_boot,len(lambda_list)),replace=True)\n",
    "\n",
    "for i in range(N_boot):\n",
    "    hold1,hold2 = np.polyfit(res_time[i],res_lambdas[i],deg=1)\n",
    "    slopes.append(hold1)\n",
    "    intercepts.append(hold2)"
   ]
  },
  {
   "cell_type": "code",
   "execution_count": null,
   "metadata": {
    "ExecuteTime": {
     "end_time": "2021-02-23T18:29:58.862551Z",
     "start_time": "2021-02-23T18:17:48.462Z"
    }
   },
   "outputs": [],
   "source": [
    "fig9,ax15 = plt.subplots(1,1)\n",
    "sns.histplot(slopes,stat='density',ax=ax15)\n",
    "# ax15.set_xlabel(\"Slope ($\\beta_{1}$)\")\n",
    "# ax15.set_ylabel(\"Probability\")\n",
    "ax15.vlines(slope,0,ax15.get_ylim()[-1],color='r',label=f\"Estimated slope: {slope:.9f}\")\n",
    "ax15.grid(linestyle=':')\n",
    "ax15.legend(loc='best')\n",
    "plt.show()"
   ]
  },
  {
   "cell_type": "code",
   "execution_count": null,
   "metadata": {
    "ExecuteTime": {
     "end_time": "2021-02-23T18:29:58.868594Z",
     "start_time": "2021-02-23T18:17:48.469Z"
    }
   },
   "outputs": [],
   "source": [
    "fig10,ax16 = plt.subplots(1,1)\n",
    "sns.histplot(intercepts,stat='density',ax=ax16)\n",
    "# ax16.set_xlabel(\"y-intercept ($\\beta_{0}$)\")\n",
    "# ax16.set_ylabel(\"Probability\")\n",
    "ax16.vlines(intercept,0,ax16.get_ylim()[-1],color='r',label=f\"Estimated y-intercept: {intercept:.9f}\")\n",
    "ax16.grid(linestyle=':')\n",
    "ax16.legend(loc='best')\n",
    "plt.show()"
   ]
  },
  {
   "cell_type": "markdown",
   "metadata": {},
   "source": [
    "### 2.e) Use the scipy.stats.kstest function to assess the likelihood that the time intervals, $\\tau^+$ and $\\tau^-$, are exponentially distributed. Use the scipy.stats.ks_2samp function to assess the likelihood that the two sets of intervals have the same parent distribution."
   ]
  },
  {
   "cell_type": "code",
   "execution_count": null,
   "metadata": {
    "ExecuteTime": {
     "end_time": "2021-02-23T18:29:58.873672Z",
     "start_time": "2021-02-23T18:17:48.486Z"
    }
   },
   "outputs": [],
   "source": [
    "positive_test = stats.kstest(positive_time_lengths,stats.expon.cdf)\n",
    "print(f\"Are the positive time intervals exponentially distributed?: KS stat: {positive_test[0]:.3f}, p-value: {positive_test[1]:.3f}\")\n",
    "\n",
    "negative_test = stats.kstest(negative_time_lengths,stats.expon.cdf)\n",
    "print(f\"Are the negative time intervals exponentially distributed?: KS stat: {negative_test[0]:.3f}, p-value: {negative_test[1]:.3f}\")"
   ]
  },
  {
   "cell_type": "code",
   "execution_count": null,
   "metadata": {
    "ExecuteTime": {
     "end_time": "2021-02-23T18:29:58.878664Z",
     "start_time": "2021-02-23T18:17:48.492Z"
    }
   },
   "outputs": [],
   "source": [
    "stats.kstest(stats.expon.rvs(loc= 3,size=1000),stats.expon.cdf)"
   ]
  },
  {
   "cell_type": "code",
   "execution_count": null,
   "metadata": {
    "ExecuteTime": {
     "end_time": "2021-02-23T18:29:58.885501Z",
     "start_time": "2021-02-23T18:17:48.499Z"
    },
    "scrolled": true
   },
   "outputs": [],
   "source": [
    "print(\"Are both time intervals coming from the same parent distribution?\")\n",
    "testing = stats.ks_2samp(positive_time_lengths,negative_time_lengths)\n",
    "print(f\"KS stat: {testing[0]:.3f}, p-value: {testing[1]}\")"
   ]
  },
  {
   "cell_type": "markdown",
   "metadata": {},
   "source": [
    "## Problem 3: The Luria-Delbrück Experiment"
   ]
  },
  {
   "cell_type": "markdown",
   "metadata": {},
   "source": [
    "### 3.a) As part of the theoretical justification for their work, Luria and Delbrück showed that the variance in the number of resistant bacteria under the random mutation hypothesis grows exponentially with the number of generations. You can look at their work in their paper, or in the course notes, but along the way they also note that the mutation rate itself can be directly estimated from the data using the formula\n",
    "\n",
    "### $a ≈ -ln⁡2 \\frac{ln(\\frac{N_{NoMut}}{N_{Plates}})}{N_{bact}}$ \n",
    "\n",
    "### where $a$ is the mutation rate, $N_{NoMut}$ is the number of plates with no mutations, $N_{Plates}$ is the number of cultures, and $N_{bact}$ is the number of bacteria on each culture.\n",
    "### Consider the data from Luria and Delbrück’s Experiments 22 and 23.  How well can you recover their reported mutation rates? (The data has been stored as a MATLAB .mat file, so you will need to use the scipy.io.loadmat function! To parse the structure of the data, consult the original paper)."
   ]
  },
  {
   "cell_type": "code",
   "execution_count": null,
   "metadata": {
    "ExecuteTime": {
     "end_time": "2021-02-23T18:29:58.889882Z",
     "start_time": "2021-02-23T18:17:48.510Z"
    }
   },
   "outputs": [],
   "source": [
    "LD_data = scipy.io.loadmat('LD_Data.mat')\n",
    "\n",
    "LD1 = LD_data['LD1']\n",
    "LD2 = LD_data['LD2']\n",
    "\n",
    "N_nomut1 = LD1[0][1]\n",
    "N_nomut2 = LD2[0][1]\n",
    "N_plate1 = 0\n",
    "N_plate2 = 0\n",
    "N_bact1 = 280000000*0.25  # From paper\n",
    "N_bact2 = 240000000\n",
    "\n",
    "for i in range(len(LD1)):\n",
    "    N_plate1 += LD1[i][1]\n",
    "    N_plate2 += LD2[i][1]\n",
    "    \n",
    "mutRate1 = -math.log(2)*(math.log(N_nomut1/N_plate1)/N_bact1)\n",
    "mutRate2 = -math.log(2)*(math.log(N_nomut2/N_plate2)/N_bact2)\n",
    "\n",
    "print(f\"Estimated mutation rate for experiment 22: {mutRate1}\\nEstimated mutation rate for experiment 23: {mutRate2}\")"
   ]
  },
  {
   "cell_type": "code",
   "execution_count": null,
   "metadata": {
    "ExecuteTime": {
     "end_time": "2021-02-23T18:29:58.894230Z",
     "start_time": "2021-02-23T18:17:48.515Z"
    }
   },
   "outputs": [],
   "source": [
    "LD_data"
   ]
  },
  {
   "cell_type": "markdown",
   "metadata": {},
   "source": [
    "I seem to underestimate those values by one order of magnitude."
   ]
  },
  {
   "cell_type": "markdown",
   "metadata": {},
   "source": [
    "### 3.b) Simulate 100 bacteria dividing over several generations, keeping track of whether a bacterium has mutated or not. Assume that bacteria mutate at a rate of $a = 5 × 10^{-5}$ every cell division. Perform this simulation many times and plot the distribution of the number of mutated cells. Calculate the expected value and the 5th, 25th, 50th, 75th, and 90th percentiles of the number of mutated bacteria."
   ]
  },
  {
   "cell_type": "markdown",
   "metadata": {},
   "source": [
    "### 3.c) Simulate the adaptive mutation hypothesis many times and plot the distribution of the number of mutated cells. Calculate the expected value and the 5th, 25th, 50th, 75th, and 90th percentiles of the number of mutated bacteria."
   ]
  },
  {
   "cell_type": "markdown",
   "metadata": {},
   "source": [
    "### 3.d) Simulate a single set of Luria and Delbrück’s experiments many times under each of the two hypotheses. For each “experiment”, calculate the Fano factor: $F=\\frac{Var}{Mean}$ for the number of resistant bacteria as well as the mean number of mutated bacteria."
   ]
  },
  {
   "cell_type": "markdown",
   "metadata": {},
   "source": [
    "### 3.e) Estimate the likelihood that the mean number of mutated bacteria is different. Justify your approach. In particular, precisely describe your hypotheses, your statistic(s), and your null distributions. Assess how your estimation depends on the number of experiments and the number of plates in an experiment."
   ]
  },
  {
   "cell_type": "markdown",
   "metadata": {},
   "source": [
    "### 3.f) Estimate the probability of observing a Fano factor larger or smaller than those from the data. Interpret this finding in the context of the biology. Discuss why this test is more or less powerful than the previous problem for distinguishing between the models of bacterial mutation."
   ]
  }
 ],
 "metadata": {
  "kernelspec": {
   "display_name": "Python 3",
   "language": "python",
   "name": "python3"
  },
  "language_info": {
   "codemirror_mode": {
    "name": "ipython",
    "version": 3
   },
   "file_extension": ".py",
   "mimetype": "text/x-python",
   "name": "python",
   "nbconvert_exporter": "python",
   "pygments_lexer": "ipython3",
   "version": "3.8.11"
  }
 },
 "nbformat": 4,
 "nbformat_minor": 4
}
